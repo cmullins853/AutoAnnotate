{
 "cells": [
  {
   "metadata": {
    "ExecuteTime": {
     "end_time": "2025-07-09T21:43:16.913633Z",
     "start_time": "2025-07-09T21:28:20.705927Z"
    }
   },
   "cell_type": "code",
   "source": [
    "import torch.nn as nn\n",
    "import torchvision.transforms as T\n",
    "import torchvision.models as models\n",
    "import os\n",
    "from PIL import Image, ImageChops\n",
    "from diffusers import StableDiffusionXLImg2ImgPipeline, LatentConsistencyModelImg2ImgPipeline, StableDiffusionInpaintPipeline, AutoPipelineForInpainting, DEISMultistepScheduler\n",
    "from torchvision.ops import box_convert\n",
    "import torch\n",
    "import numpy as np\n",
    "import shutil\n",
    "\n",
    "# Function to load YOLO bounding boxes from a text file\n",
    "def load_yolo_boxes(label_path, img_width, img_height):\n",
    "    boxes = []\n",
    "    with open(label_path, 'r') as file:\n",
    "        for line in file:\n",
    "            parts = line.strip().split()\n",
    "            _, x_center, y_center, width, height = map(float, parts)\n",
    "            boxes.append([x_center, y_center, width, height])\n",
    "\n",
    "    boxes_tensor = torch.tensor(boxes)\n",
    "    boxes_unnorm = boxes_tensor * torch.Tensor([img_width, img_height, img_width, img_height])\n",
    "    boxes_xyxy = box_convert(boxes=boxes_unnorm, in_fmt=\"cxcywh\", out_fmt=\"xyxy\").numpy()\n",
    "\n",
    "    return boxes_xyxy\n",
    "# ----------------------------------------------------------------------------------------------------------------------\n",
    "device = torch.device(\"cuda\" if torch.cuda.is_available() else \"cpu\")\n",
    "\n",
    "# ----------------------------------------------------------------------------------------------------------------------\n",
    "#pipe = StableDiffusionXLImg2ImgPipeline.from_pretrained(\"stabilityai/stable-diffusion-xl-refiner-1.0\", torch_dtype=torch.float16, variant=\"fp16\", use_safetensors=True).to(device)\n",
    "\n",
    "#pipe = LatentConsistencyModelImg2ImgPipeline.from_pretrained(\"SimianLuo/LCM_Dreamshaper_v7\", torch_dtype=torch.float16).to(device)\n",
    "\n",
    "pipe = StableDiffusionInpaintPipeline.from_pretrained(\"stabilityai/stable-diffusion-2-inpainting\", torch_dtype=torch.float16, variant=\"fp16\", use_safetensors=True).to(device)\n",
    "\n",
    "# pipe = AutoPipelineForInpainting.from_pretrained('Lykon/dreamshaper-8-inpainting', torch_dtype=torch.float16, variant=\"fp16\")\n",
    "# pipe.scheduler = DEISMultistepScheduler.from_config(pipe.scheduler.config)\n",
    "# pipe = pipe.to(\"cuda\")\n",
    "\n",
    "\n",
    "# ----------------------------------------------------------------------------------------------------------------------\n",
    "# Load InceptionV3 for FID feature extraction\n",
    "# ----------------------------------------------------------------------------------------------------------------------\n",
    "inception_model = models.inception_v3(\n",
    "    pretrained=True,\n",
    "    aux_logits=True,\n",
    "    transform_input=False\n",
    ")\n",
    "inception_model.to(device)\n",
    "inception_model.eval()\n",
    "inception_model.dropout = nn.Identity()\n",
    "inception_model.fc      = nn.Identity()\n",
    "\n",
    "# Preprocessing pipeline for FID (resize to 299×299, ToTensor, ImageNet normalization)\n",
    "fid_transform = T.Compose([\n",
    "    T.Resize((299, 299)),\n",
    "    T.ToTensor(),\n",
    "    T.Normalize(mean=[0.485, 0.456, 0.406],\n",
    "                std =[0.229, 0.224, 0.225])\n",
    "])\n",
    "\n",
    "@torch.no_grad()\n",
    "def get_inception_feat(pil_img: Image.Image) -> torch.Tensor:\n",
    "    \"\"\"\n",
    "    Given a PIL.Image, apply the standard FID transformations, pass through\n",
    "    InceptionV3 backbone (with final layers replaced by Identity), and return\n",
    "    a 2048-dimensional feature vector on CPU.\n",
    "    \"\"\"\n",
    "    x = fid_transform(pil_img).unsqueeze(0).to(device)  # shape: (1, 3, 299, 299)\n",
    "    feat_2048 = inception_model(x)                      # shape: (1, 2048)\n",
    "    return feat_2048.squeeze(0).cpu()                   # shape: (2048,)\n",
    "\n",
    "# ----------------------------------------------------------------------------------------------------------------------\n",
    "def compute_fid_between_two_images(orig_path: str, var_img: Image.Image) -> float:\n",
    "    \"\"\"\n",
    "    1. Load the original from disk (orig_path) → PIL.Image (RGB).\n",
    "    2. Extract a 2048-D Inception feature from that.\n",
    "    3. Extract a 2048-D Inception feature from var_img (PIL.Image).\n",
    "    4. Return squared Euclidean distance between those two feature vectors.\n",
    "    \"\"\"\n",
    "    img_orig = Image.open(orig_path).convert(\"RGB\")\n",
    "    feat_orig = get_inception_feat(img_orig)  # (2048,)\n",
    "    feat_var  = get_inception_feat(var_img)   # (2048,)\n",
    "    distance = torch.sum((feat_orig - feat_var) ** 2).item()\n",
    "    return distance\n",
    "\n",
    "# ----------------------------------------------------------------------------------------------------------------------\n",
    "def generate_and_select_variations(original_image_path: str, num_variations: int, top_k: int):\n",
    "    \"\"\"\n",
    "    1. Load original image from disk.\n",
    "    2. Call Stable Diffusion XL Img2Img once with num_images_per_prompt = num_variations.\n",
    "    3. Compute FID distance between original and each variation.\n",
    "    4. Sort by ascending FID, keep top_k.\n",
    "    5. Save top_k variations as JPEG, using only the portion of the filename before any \".rf.\".\n",
    "    6. Copy the corresponding YOLO label, naming it exactly to match the saved image basename.\n",
    "    7. Return a list of the top_k FID distances.\n",
    "    \"\"\"\n",
    "    # --- derive clean base name ---\n",
    "    orig_filename = os.path.basename(original_image_path)\n",
    "    root, ext       = os.path.splitext(orig_filename)\n",
    "\n",
    "    # split at \".rf.\" and keep the first part\n",
    "    clean_base = root.split('.rf.')[0]\n",
    "\n",
    "    # load original image\n",
    "    img_orig = Image.open(original_image_path).convert(\"RGB\")\n",
    "    img_width, img_height = img_orig.size\n",
    "\n",
    "    # corresponding label path (expects labels named <clean_base>.txt)\n",
    "    orig_label = os.path.join(yolo_labels_folder, root + \".txt\")\n",
    "    boxes_xyxy = load_yolo_boxes(orig_label, img_width, img_height)\n",
    "\n",
    "    # build mask for inpainting\n",
    "    mask = np.zeros((img_height, img_width), dtype=np.uint8)\n",
    "    for x0, y0, x1, y1 in boxes_xyxy:\n",
    "        mask[int(y0):int(y1), int(x0):int(x1)] = 255\n",
    "    image_mask    = Image.fromarray(mask)\n",
    "    image_resized = img_orig.resize((1024, 1024))\n",
    "    mask_resized  = image_mask.resize((1024, 1024))\n",
    "    mask_inverted = ImageChops.invert(mask_resized)\n",
    "\n",
    "    STRENGTH = .2 ## level of variation from original\n",
    "\n",
    "    # Guidance scale (CFG scale):\n",
    "    # How strongly the model adheres to the prompt. Higher values make it more strict.\n",
    "    GUIDANCE_SCALE = 10.0\n",
    "\n",
    "    # More steps generally lead to better quality but take longer. 20-30 is a good balance.\n",
    "    NUM_INFERENCE_STEPS = 1000\n",
    "    NEGATIVE_PROMPT = \"blurry, low quality, cartoon, painting, drawing, ugly, deformed, out of focus, unrealistic, pixelated, bad composition, watermark, text\"\n",
    "\n",
    "    # Number of variations to generate in a single run\n",
    "    # generate variations in one call\n",
    "    out = pipe(\n",
    "        prompt=prompt,\n",
    "        image=image_resized,\n",
    "        strength=STRENGTH,\n",
    "        guidance_scale=GUIDANCE_SCALE,\n",
    "        negative_prompt=NEGATIVE_PROMPT,\n",
    "        num_inference_steps=NUM_INFERENCE_STEPS,\n",
    "        num_images_per_prompt=num_variations,\n",
    "        mask_image=mask_inverted\n",
    "    )\n",
    "\n",
    "    generated_images = out.images  # list length = num_variations\n",
    "\n",
    "    # compute FID distances\n",
    "    variations = []\n",
    "    for idx, var_img in enumerate(generated_images):\n",
    "        dist = compute_fid_between_two_images(original_image_path, var_img)\n",
    "        variations.append((var_img, dist, idx))\n",
    "\n",
    "    # select top_k by FID\n",
    "    variations.sort(key=lambda x: x[1])\n",
    "    top_variations = variations[: min(top_k, len(variations))]\n",
    "\n",
    "    saved_distances = []\n",
    "    for rank, (img_var, dist, _) in enumerate(top_variations, start=1):\n",
    "        # resize back to original\n",
    "        img_var = img_var.resize((img_width, img_height))\n",
    "\n",
    "        save_name = f\"{clean_base}_var{rank:02d}_fid{dist:.4f}\"\n",
    "        img_name = f\"{save_name}{ext}\"\n",
    "        save_path = os.path.join(output_folder, img_name)\n",
    "\n",
    "        # save JPEG\n",
    "        img_var.save(save_path, format=\"JPEG\")\n",
    "        #composite = img_var.copy()\n",
    "        #for x0, y0, x1, y1 in boxes_xyxy:\n",
    "            # crop patch from original\n",
    "            #patch = img_orig.crop((int(x0), int(y0), int(x1), int(y1)))\n",
    "            # paste patch onto generated\n",
    "            # composite.paste(patch, (int(x0), int(y0)))\n",
    "            # composite.save(save_path, format=\"JPEG\")\n",
    "        # copy label to match exactly\n",
    "        new_label = os.path.join(output_label_folder, f\"{save_name}.txt\")\n",
    "        if os.path.isfile(orig_label):\n",
    "            shutil.copyfile(orig_label, new_label)\n",
    "\n",
    "        saved_distances.append(dist)\n",
    "\n",
    "    return saved_distances\n",
    "\n",
    "\n",
    "# ----------------------------------------------------------------------------------------------------------------------\n",
    "source_folder       = r\"C:\\Users\\cmull\\DataspellProjects\\AutoAnnotate\\AI gen project\\GT-red-leaf-11\\train\\images\"\n",
    "output_folder       = \"./RLgen_SDIP/images\"\n",
    "output_label_folder = \"./RLgen_SDIP/labels\"\n",
    "prompt              = \"generate exact variation\"\n",
    "yolo_labels_folder  = r\"C:\\Users\\cmull\\DataspellProjects\\AutoAnnotate\\AI gen project\\GT-red-leaf-11\\train\\labels\"\n",
    "\n",
    "os.makedirs(output_folder, exist_ok=True)\n",
    "os.makedirs(output_label_folder, exist_ok=True)\n",
    "\n",
    "if __name__ == \"__main__\":\n",
    "    all_files = sorted(os.listdir(source_folder))\n",
    "    for filename in all_files:\n",
    "        orig_path = os.path.join(source_folder, filename)\n",
    "\n",
    "        # Only process images\n",
    "        if not orig_path.lower().endswith((\".jpg\", \".jpeg\", \".png\")):\n",
    "            continue\n",
    "\n",
    "        # Example: generate 5 variations, then keep the top 2\n",
    "        num_variations = 4\n",
    "        top_k          = 1\n",
    "\n",
    "        fid_list = generate_and_select_variations(orig_path, num_variations, top_k)\n",
    "        print(f\"Image {filename}: top FID distances = {fid_list}\")\n"
   ],
   "outputs": [
    {
     "data": {
      "text/plain": [
       "Loading pipeline components...:   0%|          | 0/6 [00:00<?, ?it/s]"
      ],
      "application/vnd.jupyter.widget-view+json": {
       "version_major": 2,
       "version_minor": 0,
       "model_id": "1bc4cb17f5284bc5bcaab05466dd1704"
      }
     },
     "metadata": {},
     "output_type": "display_data"
    },
    {
     "name": "stderr",
     "output_type": "stream",
     "text": [
      "C:\\Users\\cmull\\anaconda3\\envs\\AutoAnnotate\\Lib\\site-packages\\torchvision\\models\\_utils.py:208: UserWarning: The parameter 'pretrained' is deprecated since 0.13 and may be removed in the future, please use 'weights' instead.\n",
      "  warnings.warn(\n",
      "C:\\Users\\cmull\\anaconda3\\envs\\AutoAnnotate\\Lib\\site-packages\\torchvision\\models\\_utils.py:223: UserWarning: Arguments other than a weight enum or `None` for 'weights' are deprecated since 0.13 and may be removed in the future. The current behavior is equivalent to passing `weights=Inception_V3_Weights.IMAGENET1K_V1`. You can also use `weights=Inception_V3_Weights.DEFAULT` to get the most up-to-date weights.\n",
      "  warnings.warn(msg)\n"
     ]
    },
    {
     "data": {
      "text/plain": [
       "  0%|          | 0/200 [00:00<?, ?it/s]"
      ],
      "application/vnd.jupyter.widget-view+json": {
       "version_major": 2,
       "version_minor": 0,
       "model_id": "6b8ea2042c644a54aac734ac4ab29592"
      }
     },
     "metadata": {},
     "output_type": "display_data"
    },
    {
     "name": "stdout",
     "output_type": "stream",
     "text": [
      "Image 20220722_111508_jpg.rf.243aaa5adde3ce6ec67ce39e5a231cb8.jpg: top FID distances = [60.778953552246094]\n"
     ]
    },
    {
     "data": {
      "text/plain": [
       "  0%|          | 0/200 [00:00<?, ?it/s]"
      ],
      "application/vnd.jupyter.widget-view+json": {
       "version_major": 2,
       "version_minor": 0,
       "model_id": "5aba79fa6d704c5baf7ec607f3405abf"
      }
     },
     "metadata": {},
     "output_type": "display_data"
    },
    {
     "name": "stdout",
     "output_type": "stream",
     "text": [
      "Image 20220722_111508_jpg.rf.8410cc0f48b76f0e0dfdc00786f11022.jpg: top FID distances = [59.176395416259766]\n"
     ]
    },
    {
     "data": {
      "text/plain": [
       "  0%|          | 0/200 [00:00<?, ?it/s]"
      ],
      "application/vnd.jupyter.widget-view+json": {
       "version_major": 2,
       "version_minor": 0,
       "model_id": "69b5f99ce3974f018f1253d2738a6baf"
      }
     },
     "metadata": {},
     "output_type": "display_data"
    },
    {
     "name": "stdout",
     "output_type": "stream",
     "text": [
      "Image DSCF3382_JPG.rf.503632c6c007e68c8b94e3f89424f34a.jpg: top FID distances = [49.42195129394531]\n"
     ]
    },
    {
     "data": {
      "text/plain": [
       "  0%|          | 0/200 [00:00<?, ?it/s]"
      ],
      "application/vnd.jupyter.widget-view+json": {
       "version_major": 2,
       "version_minor": 0,
       "model_id": "f694003c3b614b29aebd2fdea15432a4"
      }
     },
     "metadata": {},
     "output_type": "display_data"
    },
    {
     "name": "stdout",
     "output_type": "stream",
     "text": [
      "Image DSCF3382_JPG.rf.8e9f4eec0f9cfe35c1e9582c7b1362e5.jpg: top FID distances = [38.378299713134766]\n"
     ]
    },
    {
     "data": {
      "text/plain": [
       "  0%|          | 0/200 [00:00<?, ?it/s]"
      ],
      "application/vnd.jupyter.widget-view+json": {
       "version_major": 2,
       "version_minor": 0,
       "model_id": "008e0ff595fd4a7e855e440bd0ce3fa9"
      }
     },
     "metadata": {},
     "output_type": "display_data"
    },
    {
     "name": "stdout",
     "output_type": "stream",
     "text": [
      "Image DSCF3386_JPG.rf.08bdf498a065c24b6e2087f982b1dfdd.jpg: top FID distances = [61.70756530761719]\n"
     ]
    },
    {
     "data": {
      "text/plain": [
       "  0%|          | 0/200 [00:00<?, ?it/s]"
      ],
      "application/vnd.jupyter.widget-view+json": {
       "version_major": 2,
       "version_minor": 0,
       "model_id": "8a31f330c66249cc94f35224017f1bd7"
      }
     },
     "metadata": {},
     "output_type": "display_data"
    },
    {
     "name": "stdout",
     "output_type": "stream",
     "text": [
      "Image DSCF3386_JPG.rf.1ffa59994570d99d4cbf70a3edd509fd.jpg: top FID distances = [56.19220733642578]\n"
     ]
    },
    {
     "data": {
      "text/plain": [
       "  0%|          | 0/200 [00:00<?, ?it/s]"
      ],
      "application/vnd.jupyter.widget-view+json": {
       "version_major": 2,
       "version_minor": 0,
       "model_id": "be9869aa73ab400cbb05cd18ab318437"
      }
     },
     "metadata": {},
     "output_type": "display_data"
    },
    {
     "name": "stdout",
     "output_type": "stream",
     "text": [
      "Image DSCF3407_JPG.rf.10d8badc05264ba276a4595a48792e1a.jpg: top FID distances = [34.01392364501953]\n"
     ]
    },
    {
     "data": {
      "text/plain": [
       "  0%|          | 0/200 [00:00<?, ?it/s]"
      ],
      "application/vnd.jupyter.widget-view+json": {
       "version_major": 2,
       "version_minor": 0,
       "model_id": "21e843b9641947d5a3e2279b1490cc65"
      }
     },
     "metadata": {},
     "output_type": "display_data"
    },
    {
     "name": "stdout",
     "output_type": "stream",
     "text": [
      "Image DSCF3407_JPG.rf.f21ede95a95bb3acd65059c2cb437bd5.jpg: top FID distances = [72.39913940429688]\n"
     ]
    },
    {
     "data": {
      "text/plain": [
       "  0%|          | 0/200 [00:00<?, ?it/s]"
      ],
      "application/vnd.jupyter.widget-view+json": {
       "version_major": 2,
       "version_minor": 0,
       "model_id": "8a843fc2507443528f897e68aadb50d6"
      }
     },
     "metadata": {},
     "output_type": "display_data"
    },
    {
     "name": "stdout",
     "output_type": "stream",
     "text": [
      "Image DSCF3408_JPG.rf.3d414036e7d598b9391e575f2d5c64d4.jpg: top FID distances = [25.39070701599121]\n"
     ]
    },
    {
     "data": {
      "text/plain": [
       "  0%|          | 0/200 [00:00<?, ?it/s]"
      ],
      "application/vnd.jupyter.widget-view+json": {
       "version_major": 2,
       "version_minor": 0,
       "model_id": "1106fe707eb0407b988b61468fc4b670"
      }
     },
     "metadata": {},
     "output_type": "display_data"
    },
    {
     "name": "stdout",
     "output_type": "stream",
     "text": [
      "Image DSCF3408_JPG.rf.bdb69b5fd4f7f942ef36f54e9fddaf32.jpg: top FID distances = [29.253698348999023]\n"
     ]
    },
    {
     "data": {
      "text/plain": [
       "  0%|          | 0/200 [00:00<?, ?it/s]"
      ],
      "application/vnd.jupyter.widget-view+json": {
       "version_major": 2,
       "version_minor": 0,
       "model_id": "6c235a4a8f5941b180d2541cdacafab5"
      }
     },
     "metadata": {},
     "output_type": "display_data"
    },
    {
     "name": "stdout",
     "output_type": "stream",
     "text": [
      "Image DSCF3411_JPG.rf.17f89f664b8e9589d1d71e8022be0df3.jpg: top FID distances = [43.3604621887207]\n"
     ]
    },
    {
     "data": {
      "text/plain": [
       "  0%|          | 0/200 [00:00<?, ?it/s]"
      ],
      "application/vnd.jupyter.widget-view+json": {
       "version_major": 2,
       "version_minor": 0,
       "model_id": "fadc63ccaae44991b3081c56feb5545c"
      }
     },
     "metadata": {},
     "output_type": "display_data"
    },
    {
     "name": "stdout",
     "output_type": "stream",
     "text": [
      "Image DSCF3411_JPG.rf.ee54e6b6583654964bfb1cb1744fb9c3.jpg: top FID distances = [51.61919403076172]\n"
     ]
    },
    {
     "data": {
      "text/plain": [
       "  0%|          | 0/200 [00:00<?, ?it/s]"
      ],
      "application/vnd.jupyter.widget-view+json": {
       "version_major": 2,
       "version_minor": 0,
       "model_id": "47f118a80c4e40d590dd1e2d973f5080"
      }
     },
     "metadata": {},
     "output_type": "display_data"
    },
    {
     "name": "stdout",
     "output_type": "stream",
     "text": [
      "Image DSCF3416_JPG.rf.80579040152742f6add2e5463aa953bb.jpg: top FID distances = [51.35577392578125]\n"
     ]
    },
    {
     "data": {
      "text/plain": [
       "  0%|          | 0/200 [00:00<?, ?it/s]"
      ],
      "application/vnd.jupyter.widget-view+json": {
       "version_major": 2,
       "version_minor": 0,
       "model_id": "c5825793e6984e67afdd7f8edd5de5fb"
      }
     },
     "metadata": {},
     "output_type": "display_data"
    },
    {
     "name": "stdout",
     "output_type": "stream",
     "text": [
      "Image DSCF3416_JPG.rf.b48ad47860ac5b7d8dfe6a686cf59ae0.jpg: top FID distances = [49.6343879699707]\n"
     ]
    },
    {
     "data": {
      "text/plain": [
       "  0%|          | 0/200 [00:00<?, ?it/s]"
      ],
      "application/vnd.jupyter.widget-view+json": {
       "version_major": 2,
       "version_minor": 0,
       "model_id": "36080fc315d54f3eafb7acb1b8fbedcb"
      }
     },
     "metadata": {},
     "output_type": "display_data"
    },
    {
     "name": "stdout",
     "output_type": "stream",
     "text": [
      "Image DSCF3417_JPG.rf.0d5e0f43cf0641e388703735b5579bd7.jpg: top FID distances = [54.596466064453125]\n"
     ]
    },
    {
     "data": {
      "text/plain": [
       "  0%|          | 0/200 [00:00<?, ?it/s]"
      ],
      "application/vnd.jupyter.widget-view+json": {
       "version_major": 2,
       "version_minor": 0,
       "model_id": "930a00c5949241d3803389b7717cccdc"
      }
     },
     "metadata": {},
     "output_type": "display_data"
    },
    {
     "name": "stdout",
     "output_type": "stream",
     "text": [
      "Image DSCF3417_JPG.rf.9f8472484e0f3fa9a60fb90e5d01862a.jpg: top FID distances = [48.8845329284668]\n"
     ]
    },
    {
     "data": {
      "text/plain": [
       "  0%|          | 0/200 [00:00<?, ?it/s]"
      ],
      "application/vnd.jupyter.widget-view+json": {
       "version_major": 2,
       "version_minor": 0,
       "model_id": "dc2a534bce404635992d39d0d4921740"
      }
     },
     "metadata": {},
     "output_type": "display_data"
    },
    {
     "name": "stdout",
     "output_type": "stream",
     "text": [
      "Image DSCF3418_JPG.rf.1b19cd7345d7077389e1a044c5472765.jpg: top FID distances = [39.138851165771484]\n"
     ]
    },
    {
     "data": {
      "text/plain": [
       "  0%|          | 0/200 [00:00<?, ?it/s]"
      ],
      "application/vnd.jupyter.widget-view+json": {
       "version_major": 2,
       "version_minor": 0,
       "model_id": "331229d60bbf49948f52eee167f696c6"
      }
     },
     "metadata": {},
     "output_type": "display_data"
    },
    {
     "name": "stdout",
     "output_type": "stream",
     "text": [
      "Image DSCF3418_JPG.rf.94436962c8f7740688db6f3575b7de05.jpg: top FID distances = [36.384586334228516]\n"
     ]
    },
    {
     "data": {
      "text/plain": [
       "  0%|          | 0/200 [00:00<?, ?it/s]"
      ],
      "application/vnd.jupyter.widget-view+json": {
       "version_major": 2,
       "version_minor": 0,
       "model_id": "189701bf42ca44dd8ca17c0adac4fb83"
      }
     },
     "metadata": {},
     "output_type": "display_data"
    },
    {
     "name": "stdout",
     "output_type": "stream",
     "text": [
      "Image DSCF3450_JPG.rf.78f4c7ed2434e75c6f96cb99e74b4e57.jpg: top FID distances = [82.04019165039062]\n"
     ]
    },
    {
     "data": {
      "text/plain": [
       "  0%|          | 0/200 [00:00<?, ?it/s]"
      ],
      "application/vnd.jupyter.widget-view+json": {
       "version_major": 2,
       "version_minor": 0,
       "model_id": "34e020a4649d41e5923b16f982add9fa"
      }
     },
     "metadata": {},
     "output_type": "display_data"
    },
    {
     "name": "stdout",
     "output_type": "stream",
     "text": [
      "Image DSCF3450_JPG.rf.c9406ee60b46ea928b577ba89e9448b5.jpg: top FID distances = [83.75072479248047]\n"
     ]
    },
    {
     "data": {
      "text/plain": [
       "  0%|          | 0/200 [00:00<?, ?it/s]"
      ],
      "application/vnd.jupyter.widget-view+json": {
       "version_major": 2,
       "version_minor": 0,
       "model_id": "964a5be352a64b4f9e56e0ddb529107a"
      }
     },
     "metadata": {},
     "output_type": "display_data"
    },
    {
     "name": "stdout",
     "output_type": "stream",
     "text": [
      "Image DSCF3451_JPG.rf.59c4d6181a626fe8fdcb1774f05e9c80.jpg: top FID distances = [134.7001953125]\n"
     ]
    },
    {
     "data": {
      "text/plain": [
       "  0%|          | 0/200 [00:00<?, ?it/s]"
      ],
      "application/vnd.jupyter.widget-view+json": {
       "version_major": 2,
       "version_minor": 0,
       "model_id": "6584a66c334a4a9286a9d8b2ad9e30b9"
      }
     },
     "metadata": {},
     "output_type": "display_data"
    },
    {
     "name": "stdout",
     "output_type": "stream",
     "text": [
      "Image DSCF3451_JPG.rf.fadff852701d8bab6ddaed4bfaf33d5c.jpg: top FID distances = [158.1081085205078]\n"
     ]
    },
    {
     "data": {
      "text/plain": [
       "  0%|          | 0/200 [00:00<?, ?it/s]"
      ],
      "application/vnd.jupyter.widget-view+json": {
       "version_major": 2,
       "version_minor": 0,
       "model_id": "8fc57418d3c948a0a4fbe9b12e0512c3"
      }
     },
     "metadata": {},
     "output_type": "display_data"
    },
    {
     "name": "stdout",
     "output_type": "stream",
     "text": [
      "Image DSCF3479_JPG.rf.0048c40a3547d339ddc8112b7317607f.jpg: top FID distances = [71.8448257446289]\n"
     ]
    },
    {
     "data": {
      "text/plain": [
       "  0%|          | 0/200 [00:00<?, ?it/s]"
      ],
      "application/vnd.jupyter.widget-view+json": {
       "version_major": 2,
       "version_minor": 0,
       "model_id": "b9616d7c02ef48bb81fc5cb25c1a16df"
      }
     },
     "metadata": {},
     "output_type": "display_data"
    },
    {
     "name": "stdout",
     "output_type": "stream",
     "text": [
      "Image DSCF3479_JPG.rf.db569453b012f03ff59606e758d0b15e.jpg: top FID distances = [78.77117919921875]\n"
     ]
    },
    {
     "data": {
      "text/plain": [
       "  0%|          | 0/200 [00:00<?, ?it/s]"
      ],
      "application/vnd.jupyter.widget-view+json": {
       "version_major": 2,
       "version_minor": 0,
       "model_id": "35d61bfde3704d1298652870fe23ba1b"
      }
     },
     "metadata": {},
     "output_type": "display_data"
    },
    {
     "name": "stdout",
     "output_type": "stream",
     "text": [
      "Image DSCF3482_JPG.rf.3d90b60d9ee691e262c95ed31a071307.jpg: top FID distances = [70.56239318847656]\n"
     ]
    },
    {
     "data": {
      "text/plain": [
       "  0%|          | 0/200 [00:00<?, ?it/s]"
      ],
      "application/vnd.jupyter.widget-view+json": {
       "version_major": 2,
       "version_minor": 0,
       "model_id": "5d8f6c957dfc49f998c23bdb8d3fa80c"
      }
     },
     "metadata": {},
     "output_type": "display_data"
    },
    {
     "name": "stdout",
     "output_type": "stream",
     "text": [
      "Image DSCF3482_JPG.rf.e39520c5fd88cd5f9fe28f557656e452.jpg: top FID distances = [89.8516845703125]\n"
     ]
    },
    {
     "data": {
      "text/plain": [
       "  0%|          | 0/200 [00:00<?, ?it/s]"
      ],
      "application/vnd.jupyter.widget-view+json": {
       "version_major": 2,
       "version_minor": 0,
       "model_id": "7ef50b94b5604043853c7a10751e7401"
      }
     },
     "metadata": {},
     "output_type": "display_data"
    },
    {
     "name": "stdout",
     "output_type": "stream",
     "text": [
      "Image IMG_0395_jpg.rf.1d57b0a13a98c22ca481c03b4c26adf6.jpg: top FID distances = [24.27971649169922]\n"
     ]
    },
    {
     "data": {
      "text/plain": [
       "  0%|          | 0/200 [00:00<?, ?it/s]"
      ],
      "application/vnd.jupyter.widget-view+json": {
       "version_major": 2,
       "version_minor": 0,
       "model_id": "950f5ce9a43f424cbd0fde174b7162ac"
      }
     },
     "metadata": {},
     "output_type": "display_data"
    },
    {
     "name": "stdout",
     "output_type": "stream",
     "text": [
      "Image IMG_0395_jpg.rf.28cf16a3c3d8d0734dbc830090df3746.jpg: top FID distances = [36.418949127197266]\n"
     ]
    },
    {
     "data": {
      "text/plain": [
       "  0%|          | 0/200 [00:00<?, ?it/s]"
      ],
      "application/vnd.jupyter.widget-view+json": {
       "version_major": 2,
       "version_minor": 0,
       "model_id": "80e27464078c440dae6156b8fbcf5b10"
      }
     },
     "metadata": {},
     "output_type": "display_data"
    },
    {
     "name": "stdout",
     "output_type": "stream",
     "text": [
      "Image IMG_0410_jpg.rf.2f88de79348d8351abf32930c1088ace.jpg: top FID distances = [33.94023132324219]\n"
     ]
    },
    {
     "data": {
      "text/plain": [
       "  0%|          | 0/200 [00:00<?, ?it/s]"
      ],
      "application/vnd.jupyter.widget-view+json": {
       "version_major": 2,
       "version_minor": 0,
       "model_id": "0b29bfb3bef642799d89c295e6becfa1"
      }
     },
     "metadata": {},
     "output_type": "display_data"
    },
    {
     "name": "stdout",
     "output_type": "stream",
     "text": [
      "Image IMG_0410_jpg.rf.8bb8045e8877bfd6510db41dba1e7c1b.jpg: top FID distances = [35.69694137573242]\n"
     ]
    },
    {
     "data": {
      "text/plain": [
       "  0%|          | 0/200 [00:00<?, ?it/s]"
      ],
      "application/vnd.jupyter.widget-view+json": {
       "version_major": 2,
       "version_minor": 0,
       "model_id": "5c150c208341474da1dabb443b8a9b2c"
      }
     },
     "metadata": {},
     "output_type": "display_data"
    },
    {
     "name": "stdout",
     "output_type": "stream",
     "text": [
      "Image IMG_0412_jpg.rf.37f556281dc86171ed21f830316aa1a0.jpg: top FID distances = [38.446258544921875]\n"
     ]
    },
    {
     "data": {
      "text/plain": [
       "  0%|          | 0/200 [00:00<?, ?it/s]"
      ],
      "application/vnd.jupyter.widget-view+json": {
       "version_major": 2,
       "version_minor": 0,
       "model_id": "6c3b7a11dce54b4e8b547d5931fc3e5b"
      }
     },
     "metadata": {},
     "output_type": "display_data"
    },
    {
     "name": "stdout",
     "output_type": "stream",
     "text": [
      "Image IMG_0412_jpg.rf.ad45d22bbd3064cf1c06329a08a148f7.jpg: top FID distances = [29.085603713989258]\n"
     ]
    },
    {
     "data": {
      "text/plain": [
       "  0%|          | 0/200 [00:00<?, ?it/s]"
      ],
      "application/vnd.jupyter.widget-view+json": {
       "version_major": 2,
       "version_minor": 0,
       "model_id": "919498ee8a974f51927bf050a36f9b65"
      }
     },
     "metadata": {},
     "output_type": "display_data"
    },
    {
     "name": "stdout",
     "output_type": "stream",
     "text": [
      "Image IMG_0414_jpg.rf.50494c852cf5da15f6ee6807ec15f7cd.jpg: top FID distances = [60.3425407409668]\n"
     ]
    },
    {
     "data": {
      "text/plain": [
       "  0%|          | 0/200 [00:00<?, ?it/s]"
      ],
      "application/vnd.jupyter.widget-view+json": {
       "version_major": 2,
       "version_minor": 0,
       "model_id": "3c1a10ca30e249ec837dbeec891dbb6c"
      }
     },
     "metadata": {},
     "output_type": "display_data"
    },
    {
     "name": "stdout",
     "output_type": "stream",
     "text": [
      "Image IMG_0414_jpg.rf.af8297adb59dcbfb0e7535c55debc144.jpg: top FID distances = [75.35189056396484]\n"
     ]
    },
    {
     "data": {
      "text/plain": [
       "  0%|          | 0/200 [00:00<?, ?it/s]"
      ],
      "application/vnd.jupyter.widget-view+json": {
       "version_major": 2,
       "version_minor": 0,
       "model_id": "eb42f5e1bad04440a019c6797ce0e789"
      }
     },
     "metadata": {},
     "output_type": "display_data"
    },
    {
     "name": "stdout",
     "output_type": "stream",
     "text": [
      "Image IMG_0446_jpg.rf.6988e41ab07ac2ed51b9a7e9836b58a3.jpg: top FID distances = [27.77134132385254]\n"
     ]
    },
    {
     "data": {
      "text/plain": [
       "  0%|          | 0/200 [00:00<?, ?it/s]"
      ],
      "application/vnd.jupyter.widget-view+json": {
       "version_major": 2,
       "version_minor": 0,
       "model_id": "fd379dde83404cfdbd2770239473e4b3"
      }
     },
     "metadata": {},
     "output_type": "display_data"
    },
    {
     "name": "stdout",
     "output_type": "stream",
     "text": [
      "Image IMG_0446_jpg.rf.92e73abf35db21c383584680c7241301.jpg: top FID distances = [38.71853256225586]\n"
     ]
    },
    {
     "data": {
      "text/plain": [
       "  0%|          | 0/200 [00:00<?, ?it/s]"
      ],
      "application/vnd.jupyter.widget-view+json": {
       "version_major": 2,
       "version_minor": 0,
       "model_id": "4170b8d342944c6d819dacd74292620c"
      }
     },
     "metadata": {},
     "output_type": "display_data"
    },
    {
     "name": "stdout",
     "output_type": "stream",
     "text": [
      "Image IMG_0447_jpg.rf.ac691c2add1fa692b147c38fc5683456.jpg: top FID distances = [28.56695556640625]\n"
     ]
    },
    {
     "data": {
      "text/plain": [
       "  0%|          | 0/200 [00:00<?, ?it/s]"
      ],
      "application/vnd.jupyter.widget-view+json": {
       "version_major": 2,
       "version_minor": 0,
       "model_id": "e9afd0d7225d40fc95986dfd3839323b"
      }
     },
     "metadata": {},
     "output_type": "display_data"
    },
    {
     "name": "stdout",
     "output_type": "stream",
     "text": [
      "Image IMG_0447_jpg.rf.c55985cc6a558d4a7779fdb7e1cc91ef.jpg: top FID distances = [33.28870391845703]\n"
     ]
    },
    {
     "data": {
      "text/plain": [
       "  0%|          | 0/200 [00:00<?, ?it/s]"
      ],
      "application/vnd.jupyter.widget-view+json": {
       "version_major": 2,
       "version_minor": 0,
       "model_id": "42ebe08a610f46bab6a91d897f3d94bf"
      }
     },
     "metadata": {},
     "output_type": "display_data"
    },
    {
     "name": "stdout",
     "output_type": "stream",
     "text": [
      "Image IMG_0474_jpg.rf.3cd940097b57e7c4ae9843414dc74d90.jpg: top FID distances = [19.83914566040039]\n"
     ]
    },
    {
     "data": {
      "text/plain": [
       "  0%|          | 0/200 [00:00<?, ?it/s]"
      ],
      "application/vnd.jupyter.widget-view+json": {
       "version_major": 2,
       "version_minor": 0,
       "model_id": "2c4a034fb12a46d0b54d078c74f7489e"
      }
     },
     "metadata": {},
     "output_type": "display_data"
    },
    {
     "name": "stdout",
     "output_type": "stream",
     "text": [
      "Image IMG_0474_jpg.rf.57243dc2e7bc802d0fddd230b1b673fe.jpg: top FID distances = [20.160791397094727]\n"
     ]
    },
    {
     "data": {
      "text/plain": [
       "  0%|          | 0/200 [00:00<?, ?it/s]"
      ],
      "application/vnd.jupyter.widget-view+json": {
       "version_major": 2,
       "version_minor": 0,
       "model_id": "99850e8d7f674a9fb67a088e712a9dca"
      }
     },
     "metadata": {},
     "output_type": "display_data"
    },
    {
     "name": "stdout",
     "output_type": "stream",
     "text": [
      "Image IMG_0499_jpg.rf.242b11226ea3771fd01a69b4fe211cf6.jpg: top FID distances = [47.0510139465332]\n"
     ]
    },
    {
     "data": {
      "text/plain": [
       "  0%|          | 0/200 [00:00<?, ?it/s]"
      ],
      "application/vnd.jupyter.widget-view+json": {
       "version_major": 2,
       "version_minor": 0,
       "model_id": "685a98e509374d12908cd6ea1ddfc55b"
      }
     },
     "metadata": {},
     "output_type": "display_data"
    },
    {
     "name": "stdout",
     "output_type": "stream",
     "text": [
      "Image IMG_0499_jpg.rf.de074b8115290623fb20c2e5d04c81de.jpg: top FID distances = [61.98786926269531]\n"
     ]
    }
   ],
   "execution_count": 1
  },
  {
   "metadata": {},
   "cell_type": "code",
   "source": "",
   "outputs": [],
   "execution_count": null
  }
 ],
 "metadata": {
  "kernelspec": {
   "name": "python3",
   "language": "python",
   "display_name": "Python 3 (ipykernel)"
  },
  "language_info": {
   "codemirror_mode": {
    "name": "ipython",
    "version": 2
   },
   "file_extension": ".py",
   "mimetype": "text/x-python",
   "name": "python",
   "nbconvert_exporter": "python",
   "pygments_lexer": "ipython2",
   "version": "2.7.6"
  }
 },
 "nbformat": 4,
 "nbformat_minor": 0
}
