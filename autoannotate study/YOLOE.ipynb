{
 "cells": [
  {
   "cell_type": "code",
   "source": [
    "import cv2\n",
    "import numpy as np\n",
    "from ultralytics import YOLOE\n",
    "from ultralytics.models.yolo.yoloe import YOLOEVPSegPredictor"
   ],
   "metadata": {
    "collapsed": false,
    "ExecuteTime": {
     "end_time": "2025-05-04T19:22:29.343159Z",
     "start_time": "2025-05-04T19:22:26.950479Z"
    }
   },
   "outputs": [],
   "execution_count": 1
  },
  {
   "metadata": {
    "ExecuteTime": {
     "end_time": "2025-05-04T19:22:31.237035Z",
     "start_time": "2025-05-04T19:22:31.226305Z"
    }
   },
   "cell_type": "code",
   "source": [
    "image_path = r\"C:\\Users\\cmull\\DataspellProjects\\AutoAnnotate\\autoannotate study\\Bounding_Berries_LLM\\train\\images\\IMG_9394_jpg.rf.93cd662dac6324bfa4ef17b55494eaf7.jpg\"\n",
    "model_path = \"yoloe-11l-seg.pt\"\n",
    "use_same_class = True\n",
    "default_class_id = 0\n",
    "max_display_width = 1200\n",
    "\n",
    "# === Globals ===\n",
    "boxes = []\n",
    "class_ids = []\n",
    "drawing = False\n",
    "current_box = []\n",
    "resize_ratio = 1.0\n",
    "corner_size = 8\n",
    "selected_idx = -1\n",
    "corner_drag = False\n",
    "corner_index = -1\n",
    "mouse_x, mouse_y = 0, 0\n",
    "\n",
    "def point_near(p1, p2, thresh=10):\n",
    "    return abs(p1[0] - p2[0]) < thresh and abs(p1[1] - p2[1]) < thresh\n",
    "\n",
    "def find_corner(point, box):\n",
    "    x1, y1, x2, y2 = box\n",
    "    corners = [(x1, y1), (x2, y1), (x2, y2), (x1, y2)]  # All 4 corners\n",
    "    for i, (cx, cy) in enumerate(corners):\n",
    "        if point_near(point, (cx, cy), thresh=corner_size):\n",
    "            return i\n",
    "    return -1\n",
    "\n",
    "def click_event(event, x, y, flags, param):\n",
    "    global drawing, current_box, boxes, class_ids\n",
    "    global selected_idx, corner_drag, corner_index, mouse_x, mouse_y\n",
    "\n",
    "    mouse_x, mouse_y = x, y\n",
    "\n",
    "    if event == cv2.EVENT_LBUTTONDOWN:\n",
    "        for idx, box in enumerate(boxes):\n",
    "            ci = find_corner((x, y), box)\n",
    "            if ci != -1:\n",
    "                selected_idx = idx\n",
    "                corner_drag = True\n",
    "                corner_index = ci\n",
    "                return\n",
    "        drawing = True\n",
    "        current_box = [(x, y)]\n",
    "\n",
    "    elif event == cv2.EVENT_MOUSEMOVE:\n",
    "        mouse_x, mouse_y = x, y\n",
    "        if drawing and current_box:\n",
    "            current_box = [current_box[0], (x, y)]\n",
    "        elif corner_drag and selected_idx != -1:\n",
    "            box = boxes[selected_idx]\n",
    "            # Allow dragging corners inward and outward\n",
    "            if corner_index == 0:  # top-left\n",
    "                box[0], box[1] = x, y\n",
    "            elif corner_index == 1:  # top-right\n",
    "                box[2], box[1] = x, y\n",
    "            elif corner_index == 2:  # bottom-right\n",
    "                box[2], box[3] = x, y\n",
    "            elif corner_index == 3:  # bottom-left\n",
    "                box[0], box[3] = x, y\n",
    "            boxes[selected_idx] = box\n",
    "\n",
    "    elif event == cv2.EVENT_LBUTTONUP:\n",
    "        if drawing and len(current_box) == 2:\n",
    "            x1, y1 = current_box[0]\n",
    "            x2, y2 = current_box[1]\n",
    "            box = [min(x1, x2), min(y1, y2), max(x1, x2), max(y1, y2)]\n",
    "            boxes.append(box)\n",
    "            class_ids.append(default_class_id if use_same_class else int(input(f\"Enter class ID for box {len(boxes)}: \")))\n",
    "            current_box.clear()\n",
    "        drawing = False\n",
    "        corner_drag = False\n",
    "        corner_index = -1\n",
    "\n",
    "def draw_all(img):\n",
    "    for i, box in enumerate(boxes):\n",
    "        x1, y1, x2, y2 = map(int, box)\n",
    "        color = (0, 255, 0) if i != selected_idx else (0, 0, 255)\n",
    "        cv2.rectangle(img, (x1, y1), (x2, y2), color, 2)\n",
    "\n",
    "        # Draw corner handles\n",
    "        for (cx, cy) in [(x1, y1), (x2, y1), (x2, y2), (x1, y2)]:\n",
    "            cv2.rectangle(img, (cx - corner_size, cy - corner_size),\n",
    "                          (cx + corner_size, cy + corner_size), (255, 255, 0), -1)\n",
    "\n",
    "def draw_cursor_guides(img):\n",
    "    step = 10\n",
    "    for y in range(0, img.shape[0], step * 2):\n",
    "        cv2.line(img, (mouse_x, y), (mouse_x, y + step), (200, 200, 200), 1)\n",
    "    for x in range(0, img.shape[1], step * 2):\n",
    "        cv2.line(img, (x, mouse_y), (x + step, mouse_y), (200, 200, 200), 1)\n",
    "\n",
    "def main():\n",
    "    global resize_ratio, selected_idx\n",
    "\n",
    "    original = cv2.imread(image_path)\n",
    "    if original is None:\n",
    "        print(\"Image not found.\")\n",
    "        return\n",
    "\n",
    "    h, w = original.shape[:2]\n",
    "    if w > max_display_width:\n",
    "        resize_ratio = max_display_width / w\n",
    "        display = cv2.resize(original, (int(w * resize_ratio), int(h * resize_ratio)))\n",
    "    else:\n",
    "        display = original.copy()\n",
    "\n",
    "    clone = display.copy()\n",
    "    cv2.namedWindow(\"Image\")\n",
    "    cv2.setMouseCallback(\"Image\", click_event)\n",
    "\n",
    "    print(\"Draw boxes (click-drag). Drag corners to edit. \\nPress 'Enter' to run inference.\\nPress 'Backspace' while box is selected to delete it.\")\n",
    "\n",
    "    while True:\n",
    "        img_show = clone.copy()\n",
    "        draw_all(img_show)\n",
    "        draw_cursor_guides(img_show)\n",
    "\n",
    "        if drawing and len(current_box) == 2:\n",
    "            cv2.rectangle(img_show, current_box[0], current_box[1], (255, 255, 255), 1)\n",
    "\n",
    "        cv2.imshow(\"Image\", img_show)\n",
    "        key = cv2.waitKey(1) & 0xFF\n",
    "        if key == ord('\\r'):\n",
    "            break\n",
    "        elif key == ord('\\b'):  # Backspace key\n",
    "            if selected_idx != -1 and selected_idx < len(boxes):\n",
    "                print(f\"Deleted box {selected_idx + 1}\")\n",
    "                boxes.pop(selected_idx)\n",
    "                class_ids.pop(selected_idx)\n",
    "                selected_idx = -1\n",
    "\n",
    "    cv2.destroyAllWindows()\n",
    "\n",
    "    if not boxes:\n",
    "        print(\"No boxes labeled.\")\n",
    "        return\n",
    "\n",
    "    # Normalize coordinates before inference\n",
    "    bboxes = []\n",
    "    for box in boxes:\n",
    "        x1, y1, x2, y2 = box\n",
    "        x1, x2 = sorted([x1, x2])\n",
    "        y1, y2 = sorted([y1, y2])\n",
    "        scaled_box = [x1 / resize_ratio, y1 / resize_ratio, x2 / resize_ratio, y2 / resize_ratio]\n",
    "        bboxes.append(scaled_box)\n",
    "\n",
    "    visual_prompts = dict(\n",
    "        bboxes=np.array(bboxes, dtype=np.float32),\n",
    "        cls=np.array(class_ids, dtype=np.int32),\n",
    "    )\n",
    "\n",
    "    print(\"Running inference...\")\n",
    "    model = YOLOE(model_path)\n",
    "    results = model.predict(\n",
    "        source=image_path,\n",
    "        visual_prompts=visual_prompts,\n",
    "        predictor=YOLOEVPSegPredictor,\n",
    "        conf=0.05,\n",
    "    )\n",
    "    results[0].show()"
   ],
   "outputs": [],
   "execution_count": 2
  },
  {
   "metadata": {
    "ExecuteTime": {
     "end_time": "2025-05-04T19:23:18.207988Z",
     "start_time": "2025-05-04T19:22:32.396534Z"
    }
   },
   "cell_type": "code",
   "source": "main()",
   "outputs": [
    {
     "name": "stdout",
     "output_type": "stream",
     "text": [
      "Draw boxes (click-drag). Drag corners to edit. \n",
      "Press 'Enter' to run inference.\n",
      "Press 'Backspace' while box is selected to delete it.\n",
      "Running inference...\n",
      "Downloading https://github.com/ultralytics/assets/releases/download/v8.3.0/yoloe-11l-seg.pt to 'yoloe-11l-seg.pt'...\n"
     ]
    },
    {
     "name": "stderr",
     "output_type": "stream",
     "text": [
      "100%|██████████| 67.7M/67.7M [00:12<00:00, 5.78MB/s]\n"
     ]
    },
    {
     "name": "stdout",
     "output_type": "stream",
     "text": [
      "Ultralytics 8.3.123  Python-3.12.8 torch-2.5.1+cu124 CUDA:0 (NVIDIA GeForce RTX 4080, 16376MiB)\n",
      "YOLOe-11l-seg summary (fused): 227 layers, 35,117,862 parameters, 2,254,374 gradients\n",
      "\n",
      "image 1/1 C:\\Users\\cmull\\DataspellProjects\\AutoAnnotate\\autoannotate study\\Bounding_Berries_LLM\\train\\images\\IMG_9394_jpg.rf.93cd662dac6324bfa4ef17b55494eaf7.jpg: 448x640 12 object0s, 106.4ms\n",
      "Speed: 14.6ms preprocess, 106.4ms inference, 1081.1ms postprocess per image at shape (1, 3, 448, 640)\n"
     ]
    }
   ],
   "execution_count": 3
  },
  {
   "cell_type": "markdown",
   "source": [
    "# Prompt-free"
   ],
   "metadata": {
    "collapsed": false
   }
  },
  {
   "cell_type": "code",
   "execution_count": 9,
   "outputs": [
    {
     "name": "stdout",
     "output_type": "stream",
     "text": [
      "Ultralytics 8.3.122  Python-3.12.4 torch-2.4.1+cu118 CUDA:0 (NVIDIA GeForce RTX 3090, 24576MiB)\n",
      "YOLOe-11l-seg summary (fused): 229 layers, 36,680,414 parameters, 2,638,581 gradients, 159.7 GFLOPs\n",
      "\n",
      "image 1/1 C:\\Users\\Mechanized Systems\\DataspellProjects\\AutoAnnotate\\autoannotate study\\berries-1\\train\\images\\IMG_9331_jpg.rf.8cb583bb444b98e1eaf3f2f6d46d2f4c.jpg: 448x640 1 nature, 55.9ms\n",
      "Speed: 2.3ms preprocess, 55.9ms inference, 4.5ms postprocess per image at shape (1, 3, 448, 640)\n"
     ]
    }
   ],
   "source": [
    "# Initialize a YOLOE model\n",
    "model = YOLOE(\"yoloe-11l-seg-pf.pt\")\n",
    "\n",
    "# Run prediction. No prompts required.\n",
    "results = model.predict(r\"C:\\Users\\Mechanized Systems\\DataspellProjects\\AutoAnnotate\\autoannotate study\\berries-1\\train\\images\\IMG_9331_jpg.rf.8cb583bb444b98e1eaf3f2f6d46d2f4c.jpg\", conf=.40)\n",
    "\n",
    "# Show results\n",
    "results[0].show()"
   ],
   "metadata": {
    "collapsed": false
   }
  },
  {
   "cell_type": "code",
   "execution_count": null,
   "outputs": [],
   "source": [],
   "metadata": {
    "collapsed": false
   }
  }
 ],
 "metadata": {
  "kernelspec": {
   "display_name": "Python 3",
   "language": "python",
   "name": "python3"
  },
  "language_info": {
   "codemirror_mode": {
    "name": "ipython",
    "version": 2
   },
   "file_extension": ".py",
   "mimetype": "text/x-python",
   "name": "python",
   "nbconvert_exporter": "python",
   "pygments_lexer": "ipython2",
   "version": "2.7.6"
  }
 },
 "nbformat": 4,
 "nbformat_minor": 0
}
