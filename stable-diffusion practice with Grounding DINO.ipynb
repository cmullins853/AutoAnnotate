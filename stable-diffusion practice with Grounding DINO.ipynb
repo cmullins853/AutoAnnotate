{
 "cells": [
  {
   "cell_type": "code",
   "execution_count": 1,
   "outputs": [
    {
     "ename": "ModuleNotFoundError",
     "evalue": "No module named 'roboflow'",
     "output_type": "error",
     "traceback": [
      "\u001B[1;31m---------------------------------------------------------------------------\u001B[0m",
      "\u001B[1;31mModuleNotFoundError\u001B[0m                       Traceback (most recent call last)",
      "Cell \u001B[1;32mIn[1], line 1\u001B[0m\n\u001B[1;32m----> 1\u001B[0m \u001B[38;5;28;01mfrom\u001B[39;00m \u001B[38;5;21;01mroboflow\u001B[39;00m \u001B[38;5;28;01mimport\u001B[39;00m Roboflow\n\u001B[0;32m      2\u001B[0m rf \u001B[38;5;241m=\u001B[39m Roboflow(api_key\u001B[38;5;241m=\u001B[39m\u001B[38;5;124m\"\u001B[39m\u001B[38;5;124mYsf9dN7vMjK2l5vwKfaO\u001B[39m\u001B[38;5;124m\"\u001B[39m)\n\u001B[0;32m      3\u001B[0m project \u001B[38;5;241m=\u001B[39m rf\u001B[38;5;241m.\u001B[39mworkspace(\u001B[38;5;124m\"\u001B[39m\u001B[38;5;124mai-blueberry-detection-analysis\u001B[39m\u001B[38;5;124m\"\u001B[39m)\u001B[38;5;241m.\u001B[39mproject(\u001B[38;5;124m\"\u001B[39m\u001B[38;5;124mblueberry-detection-gt\u001B[39m\u001B[38;5;124m\"\u001B[39m)\n",
      "\u001B[1;31mModuleNotFoundError\u001B[0m: No module named 'roboflow'"
     ]
    }
   ],
   "source": [
    "from roboflow import Roboflow\n",
    "rf = Roboflow(api_key=\"Ysf9dN7vMjK2l5vwKfaO\")\n",
    "project = rf.workspace(\"ai-blueberry-detection-analysis\").project(\"blueberry-detection-gt\")\n",
    "version = project.version(10)\n",
    "dataset = version.download(\"yolov8\")"
   ],
   "metadata": {
    "collapsed": false
   }
  },
  {
   "cell_type": "code",
   "execution_count": 2,
   "outputs": [
    {
     "ename": "ModuleNotFoundError",
     "evalue": "No module named 'torch'",
     "output_type": "error",
     "traceback": [
      "\u001B[1;31m---------------------------------------------------------------------------\u001B[0m",
      "\u001B[1;31mModuleNotFoundError\u001B[0m                       Traceback (most recent call last)",
      "Cell \u001B[1;32mIn[2], line 2\u001B[0m\n\u001B[0;32m      1\u001B[0m \u001B[38;5;28;01mimport\u001B[39;00m \u001B[38;5;21;01mwarnings\u001B[39;00m\n\u001B[1;32m----> 2\u001B[0m \u001B[38;5;28;01mimport\u001B[39;00m \u001B[38;5;21;01mtorch\u001B[39;00m\n\u001B[0;32m      3\u001B[0m \u001B[38;5;28;01mimport\u001B[39;00m \u001B[38;5;21;01mnumpy\u001B[39;00m \u001B[38;5;28;01mas\u001B[39;00m \u001B[38;5;21;01mnp\u001B[39;00m\n\u001B[0;32m      4\u001B[0m \u001B[38;5;28;01mfrom\u001B[39;00m \u001B[38;5;21;01mPIL\u001B[39;00m \u001B[38;5;28;01mimport\u001B[39;00m Image, ImageChops\n",
      "\u001B[1;31mModuleNotFoundError\u001B[0m: No module named 'torch'"
     ]
    }
   ],
   "source": [
    "import warnings\n",
    "import torch\n",
    "import numpy as np\n",
    "from PIL import Image, ImageChops\n",
    "from diffusers import StableDiffusionXLImg2ImgPipeline\n",
    "from torchvision.ops import box_convert\n",
    "from huggingface_hub import hf_hub_download\n",
    "from groundingdino.models import build_model\n",
    "from groundingdino.util.slconfig import SLConfig\n",
    "from groundingdino.util.utils import clean_state_dict\n",
    "from groundingdino.util.inference import annotate, load_image, predict\n",
    "\n",
    "warnings.filterwarnings(\"ignore\")\n",
    "\n",
    "# --------------------------- Model Loading ---------------------------\n",
    "\n",
    "def load_model_hf(repo_id, filename, ckpt_config_filename, device='cuda'):\n",
    "    cache_config_file = hf_hub_download(repo_id=repo_id, filename=ckpt_config_filename)\n",
    "    args = SLConfig.fromfile(cache_config_file)\n",
    "    model = build_model(args)\n",
    "    args.device = device\n",
    "    cache_file = hf_hub_download(repo_id=repo_id, filename=filename)\n",
    "    checkpoint = torch.load(cache_file, map_location='cpu')\n",
    "    log = model.load_state_dict(clean_state_dict(checkpoint['model']), strict=False)\n",
    "    print(f\"Model loaded from {cache_file}\\n => {log}\")\n",
    "    model.eval()\n",
    "    return model\n",
    "# --------------------------- Mask Generation ---------------------------\n",
    "\n",
    "def generate_mask_from_boxes(image, boxes):\n",
    "    h, w, _ = image.shape\n",
    "    boxes_unnorm = boxes * torch.Tensor([w, h, w, h])\n",
    "    boxes_xyxy = box_convert(boxes=boxes_unnorm, in_fmt=\"cxcywh\", out_fmt=\"xyxy\").numpy()\n",
    "\n",
    "    mask = np.zeros((h, w), dtype=np.uint8)\n",
    "    for x0, y0, x1, y1 in boxes_xyxy:\n",
    "        mask[int(y0):int(y1), int(x0):int(x1)] = 255\n",
    "    return mask"
   ],
   "metadata": {
    "collapsed": false
   }
  },
  {
   "cell_type": "code",
   "execution_count": null,
   "outputs": [],
   "source": [
    "# --------------------------- Grounding DINO Configuration ---------------------------\n",
    "\n",
    "ckpt_repo_id = \"ShilongLiu/GroundingDINO\"\n",
    "ckpt_filename = \"groundingdino_swint_ogc.pth\"\n",
    "ckpt_config_filename = \"GroundingDINO_SwinT_OGC.cfg.py\"\n",
    "\n",
    "model = load_model_hf(ckpt_repo_id, ckpt_filename, ckpt_config_filename)\n",
    "\n",
    "# --------------------------- Inpainting Model ---------------------------\n",
    "\n",
    "pipe = StableDiffusionXLImg2ImgPipeline.from_pretrained(\"stabilityai/stable-diffusion-xl-refiner-1.0\", torch_dtype=torch.float16, variant=\"fp16\", use_safetensors=True)\n",
    "pipe = pipe.to(\"cuda\")"
   ],
   "metadata": {
    "collapsed": false
   }
  },
  {
   "cell_type": "code",
   "execution_count": null,
   "outputs": [],
   "source": [
    "# --------------------------- Image and Prompt ---------------------------\n",
    "\n",
    "local_image_path = r\"C:\\Users\\Mechanized Systems\\DataspellProjects\\AutoAnnotate\\autoannotate study\\berries-bounding-box-1\\train\\images\\IMG_9331_jpg.rf.20009327b80c55eec840b8b4f5cddf57.jpg\"\n",
    "TEXT_PROMPT = \"blueberry\"\n",
    "BOX_THRESHOLD = 0.3\n",
    "TEXT_THRESHOLD = 0.25\n",
    "prompt= \"generate variation\"\n",
    "# --------------------------- Inference ---------------------------\n",
    "\n",
    "image_source, image_tensor = load_image(local_image_path)\n",
    "boxes, logits, phrases = predict(\n",
    "    model=model,\n",
    "    image=image_tensor,\n",
    "    caption=TEXT_PROMPT,\n",
    "    box_threshold=BOX_THRESHOLD,\n",
    "    text_threshold=TEXT_THRESHOLD\n",
    ")\n",
    "annotated_frame = annotate(image_source=image_source, boxes=boxes, logits=logits, phrases=phrases)\n",
    "annotated_frame = annotated_frame[...,::-1] # BGR to RGB"
   ],
   "metadata": {
    "collapsed": false
   }
  },
  {
   "cell_type": "code",
   "execution_count": null,
   "outputs": [],
   "source": [
    "binary_mask_np = generate_mask_from_boxes(image_source, boxes)\n",
    "image_mask = Image.fromarray(binary_mask_np)\n",
    "image_source = Image.fromarray(image_source)\n",
    "\n",
    "Image.fromarray(annotated_frame)"
   ],
   "metadata": {
    "collapsed": false
   }
  },
  {
   "cell_type": "code",
   "execution_count": null,
   "outputs": [],
   "source": [
    "# --------------------------- Resize for Inpainting ---------------------------\n",
    "image_source_for_inpaint = image_source.resize((512, 512))\n",
    "image_mask_for_inpaint = image_mask.resize((512, 512))"
   ],
   "metadata": {
    "collapsed": false
   }
  },
  {
   "cell_type": "code",
   "execution_count": null,
   "outputs": [],
   "source": [
    "\n",
    "# Invert the mask: 255 -> 0, 0 -> 255\n",
    "image_mask_inverted = ImageChops.invert(image_mask.convert(\"L\"))\n",
    "# --------------------------- Inpainting ---------------------------\n",
    "\n",
    "image_inpainting = pipe(\n",
    "    prompt=prompt,\n",
    "    image=image_source_for_inpaint,\n",
    "    mask_image=image_mask_inverted\n",
    ").images[0]\n",
    "\n",
    "# --------------------------- Resize Back ---------------------------\n",
    "\n",
    "image_inpainting = image_inpainting.resize(image_source.size)\n",
    "\n",
    "# --------------------------- Composite with Preserved Objects ---------------------------\n",
    "# Convert to RGBA\n",
    "image_source_rgba = image_source.convert(\"RGBA\")\n",
    "image_inpainting_rgba = image_inpainting.convert(\"RGBA\")\n",
    "\n",
    "# Prepare alpha mask\n",
    "alpha_mask = Image.new(\"RGBA\", image_source.size)\n",
    "alpha_mask.putalpha(image_mask_inverted)\n",
    "\n",
    "# Extract preserved object regions from original image\n",
    "cutout = Image.composite(\n",
    "    image_source_rgba,\n",
    "    Image.new(\"RGBA\", image_source.size, (0, 0, 0, 0)),\n",
    "    mask=image_mask.convert(\"L\")\n",
    ")\n",
    "\n",
    "# Paste preserved objects onto inpainted image\n",
    "final_composite = Image.alpha_composite(image_inpainting_rgba, cutout)\n",
    "\n",
    "# --------------------------- Output ---------------------------\n",
    "\n",
    "final_composite.show()\n",
    "# final_composite.save(\"output_with_overlay.png\")"
   ],
   "metadata": {
    "collapsed": false
   }
  },
  {
   "cell_type": "code",
   "execution_count": 2,
   "outputs": [
    {
     "data": {
      "text/plain": "Loading pipeline components...:   0%|          | 0/5 [00:00<?, ?it/s]",
      "application/vnd.jupyter.widget-view+json": {
       "version_major": 2,
       "version_minor": 0,
       "model_id": "46f9b587f3d648d6b95f67eba8220b65"
      }
     },
     "metadata": {},
     "output_type": "display_data"
    },
    {
     "ename": "RuntimeError",
     "evalue": "Failed to import diffusers.pipelines.onnx_utils because of the following error (look up to see its traceback):\nDLL load failed while importing onnxruntime_pybind11_state: A dynamic link library (DLL) initialization routine failed.",
     "output_type": "error",
     "traceback": [
      "\u001B[1;31m---------------------------------------------------------------------------\u001B[0m",
      "\u001B[1;31mImportError\u001B[0m                               Traceback (most recent call last)",
      "File \u001B[1;32m~\\.conda\\envs\\autoannotate\\Lib\\site-packages\\diffusers\\utils\\import_utils.py:820\u001B[0m, in \u001B[0;36m_LazyModule._get_module\u001B[1;34m(self, module_name)\u001B[0m\n\u001B[0;32m    819\u001B[0m \u001B[38;5;28;01mtry\u001B[39;00m:\n\u001B[1;32m--> 820\u001B[0m     \u001B[38;5;28;01mreturn\u001B[39;00m \u001B[43mimportlib\u001B[49m\u001B[38;5;241;43m.\u001B[39;49m\u001B[43mimport_module\u001B[49m\u001B[43m(\u001B[49m\u001B[38;5;124;43m\"\u001B[39;49m\u001B[38;5;124;43m.\u001B[39;49m\u001B[38;5;124;43m\"\u001B[39;49m\u001B[43m \u001B[49m\u001B[38;5;241;43m+\u001B[39;49m\u001B[43m \u001B[49m\u001B[43mmodule_name\u001B[49m\u001B[43m,\u001B[49m\u001B[43m \u001B[49m\u001B[38;5;28;43mself\u001B[39;49m\u001B[38;5;241;43m.\u001B[39;49m\u001B[38;5;18;43m__name__\u001B[39;49m\u001B[43m)\u001B[49m\n\u001B[0;32m    821\u001B[0m \u001B[38;5;28;01mexcept\u001B[39;00m \u001B[38;5;167;01mException\u001B[39;00m \u001B[38;5;28;01mas\u001B[39;00m e:\n",
      "File \u001B[1;32m~\\.conda\\envs\\autoannotate\\Lib\\importlib\\__init__.py:90\u001B[0m, in \u001B[0;36mimport_module\u001B[1;34m(name, package)\u001B[0m\n\u001B[0;32m     89\u001B[0m         level \u001B[38;5;241m+\u001B[39m\u001B[38;5;241m=\u001B[39m \u001B[38;5;241m1\u001B[39m\n\u001B[1;32m---> 90\u001B[0m \u001B[38;5;28;01mreturn\u001B[39;00m \u001B[43m_bootstrap\u001B[49m\u001B[38;5;241;43m.\u001B[39;49m\u001B[43m_gcd_import\u001B[49m\u001B[43m(\u001B[49m\u001B[43mname\u001B[49m\u001B[43m[\u001B[49m\u001B[43mlevel\u001B[49m\u001B[43m:\u001B[49m\u001B[43m]\u001B[49m\u001B[43m,\u001B[49m\u001B[43m \u001B[49m\u001B[43mpackage\u001B[49m\u001B[43m,\u001B[49m\u001B[43m \u001B[49m\u001B[43mlevel\u001B[49m\u001B[43m)\u001B[49m\n",
      "File \u001B[1;32m<frozen importlib._bootstrap>:1387\u001B[0m, in \u001B[0;36m_gcd_import\u001B[1;34m(name, package, level)\u001B[0m\n",
      "File \u001B[1;32m<frozen importlib._bootstrap>:1360\u001B[0m, in \u001B[0;36m_find_and_load\u001B[1;34m(name, import_)\u001B[0m\n",
      "File \u001B[1;32m<frozen importlib._bootstrap>:1331\u001B[0m, in \u001B[0;36m_find_and_load_unlocked\u001B[1;34m(name, import_)\u001B[0m\n",
      "File \u001B[1;32m<frozen importlib._bootstrap>:935\u001B[0m, in \u001B[0;36m_load_unlocked\u001B[1;34m(spec)\u001B[0m\n",
      "File \u001B[1;32m<frozen importlib._bootstrap_external>:995\u001B[0m, in \u001B[0;36mexec_module\u001B[1;34m(self, module)\u001B[0m\n",
      "File \u001B[1;32m<frozen importlib._bootstrap>:488\u001B[0m, in \u001B[0;36m_call_with_frames_removed\u001B[1;34m(f, *args, **kwds)\u001B[0m\n",
      "File \u001B[1;32m~\\.conda\\envs\\autoannotate\\Lib\\site-packages\\diffusers\\pipelines\\onnx_utils.py:31\u001B[0m\n\u001B[0;32m     30\u001B[0m \u001B[38;5;28;01mif\u001B[39;00m is_onnx_available():\n\u001B[1;32m---> 31\u001B[0m     \u001B[38;5;28;01mimport\u001B[39;00m \u001B[38;5;21;01monnxruntime\u001B[39;00m \u001B[38;5;28;01mas\u001B[39;00m \u001B[38;5;21;01mort\u001B[39;00m\n\u001B[0;32m     34\u001B[0m logger \u001B[38;5;241m=\u001B[39m logging\u001B[38;5;241m.\u001B[39mget_logger(\u001B[38;5;18m__name__\u001B[39m)\n",
      "File \u001B[1;32m~\\.conda\\envs\\autoannotate\\Lib\\site-packages\\onnxruntime\\__init__.py:61\u001B[0m\n\u001B[0;32m     60\u001B[0m \u001B[38;5;28;01mif\u001B[39;00m import_capi_exception:\n\u001B[1;32m---> 61\u001B[0m     \u001B[38;5;28;01mraise\u001B[39;00m import_capi_exception\n\u001B[0;32m     63\u001B[0m \u001B[38;5;28;01mfrom\u001B[39;00m \u001B[38;5;21;01monnxruntime\u001B[39;00m\u001B[38;5;21;01m.\u001B[39;00m\u001B[38;5;21;01mcapi\u001B[39;00m\u001B[38;5;21;01m.\u001B[39;00m\u001B[38;5;21;01monnxruntime_inference_collection\u001B[39;00m \u001B[38;5;28;01mimport\u001B[39;00m (\n\u001B[0;32m     64\u001B[0m     AdapterFormat,  \u001B[38;5;66;03m# noqa: F401\u001B[39;00m\n\u001B[0;32m     65\u001B[0m     InferenceSession,  \u001B[38;5;66;03m# noqa: F401\u001B[39;00m\n\u001B[1;32m   (...)\u001B[0m\n\u001B[0;32m     69\u001B[0m     SparseTensor,  \u001B[38;5;66;03m# noqa: F401\u001B[39;00m\n\u001B[0;32m     70\u001B[0m )\n",
      "File \u001B[1;32m~\\.conda\\envs\\autoannotate\\Lib\\site-packages\\onnxruntime\\__init__.py:24\u001B[0m\n\u001B[0;32m     23\u001B[0m \u001B[38;5;28;01mtry\u001B[39;00m:\n\u001B[1;32m---> 24\u001B[0m     \u001B[38;5;28;01mfrom\u001B[39;00m \u001B[38;5;21;01monnxruntime\u001B[39;00m\u001B[38;5;21;01m.\u001B[39;00m\u001B[38;5;21;01mcapi\u001B[39;00m\u001B[38;5;21;01m.\u001B[39;00m\u001B[38;5;21;01m_pybind_state\u001B[39;00m \u001B[38;5;28;01mimport\u001B[39;00m (\n\u001B[0;32m     25\u001B[0m         ExecutionMode,  \u001B[38;5;66;03m# noqa: F401\u001B[39;00m\n\u001B[0;32m     26\u001B[0m         ExecutionOrder,  \u001B[38;5;66;03m# noqa: F401\u001B[39;00m\n\u001B[0;32m     27\u001B[0m         GraphOptimizationLevel,  \u001B[38;5;66;03m# noqa: F401\u001B[39;00m\n\u001B[0;32m     28\u001B[0m         LoraAdapter,  \u001B[38;5;66;03m# noqa: F401\u001B[39;00m\n\u001B[0;32m     29\u001B[0m         ModelMetadata,  \u001B[38;5;66;03m# noqa: F401\u001B[39;00m\n\u001B[0;32m     30\u001B[0m         NodeArg,  \u001B[38;5;66;03m# noqa: F401\u001B[39;00m\n\u001B[0;32m     31\u001B[0m         OrtAllocatorType,  \u001B[38;5;66;03m# noqa: F401\u001B[39;00m\n\u001B[0;32m     32\u001B[0m         OrtArenaCfg,  \u001B[38;5;66;03m# noqa: F401\u001B[39;00m\n\u001B[0;32m     33\u001B[0m         OrtMemoryInfo,  \u001B[38;5;66;03m# noqa: F401\u001B[39;00m\n\u001B[0;32m     34\u001B[0m         OrtMemType,  \u001B[38;5;66;03m# noqa: F401\u001B[39;00m\n\u001B[0;32m     35\u001B[0m         OrtSparseFormat,  \u001B[38;5;66;03m# noqa: F401\u001B[39;00m\n\u001B[0;32m     36\u001B[0m         RunOptions,  \u001B[38;5;66;03m# noqa: F401\u001B[39;00m\n\u001B[0;32m     37\u001B[0m         SessionIOBinding,  \u001B[38;5;66;03m# noqa: F401\u001B[39;00m\n\u001B[0;32m     38\u001B[0m         SessionOptions,  \u001B[38;5;66;03m# noqa: F401\u001B[39;00m\n\u001B[0;32m     39\u001B[0m         create_and_register_allocator,  \u001B[38;5;66;03m# noqa: F401\u001B[39;00m\n\u001B[0;32m     40\u001B[0m         create_and_register_allocator_v2,  \u001B[38;5;66;03m# noqa: F401\u001B[39;00m\n\u001B[0;32m     41\u001B[0m         disable_telemetry_events,  \u001B[38;5;66;03m# noqa: F401\u001B[39;00m\n\u001B[0;32m     42\u001B[0m         enable_telemetry_events,  \u001B[38;5;66;03m# noqa: F401\u001B[39;00m\n\u001B[0;32m     43\u001B[0m         get_all_providers,  \u001B[38;5;66;03m# noqa: F401\u001B[39;00m\n\u001B[0;32m     44\u001B[0m         get_available_providers,  \u001B[38;5;66;03m# noqa: F401\u001B[39;00m\n\u001B[0;32m     45\u001B[0m         get_build_info,  \u001B[38;5;66;03m# noqa: F401\u001B[39;00m\n\u001B[0;32m     46\u001B[0m         get_device,  \u001B[38;5;66;03m# noqa: F401\u001B[39;00m\n\u001B[0;32m     47\u001B[0m         get_version_string,  \u001B[38;5;66;03m# noqa: F401\u001B[39;00m\n\u001B[0;32m     48\u001B[0m         has_collective_ops,  \u001B[38;5;66;03m# noqa: F401\u001B[39;00m\n\u001B[0;32m     49\u001B[0m         set_default_logger_severity,  \u001B[38;5;66;03m# noqa: F401\u001B[39;00m\n\u001B[0;32m     50\u001B[0m         set_default_logger_verbosity,  \u001B[38;5;66;03m# noqa: F401\u001B[39;00m\n\u001B[0;32m     51\u001B[0m         set_seed,  \u001B[38;5;66;03m# noqa: F401\u001B[39;00m\n\u001B[0;32m     52\u001B[0m     )\n\u001B[0;32m     54\u001B[0m     import_capi_exception \u001B[38;5;241m=\u001B[39m \u001B[38;5;28;01mNone\u001B[39;00m\n",
      "File \u001B[1;32m~\\.conda\\envs\\autoannotate\\Lib\\site-packages\\onnxruntime\\capi\\_pybind_state.py:32\u001B[0m\n\u001B[0;32m     25\u001B[0m             warnings\u001B[38;5;241m.\u001B[39mwarn(\u001B[38;5;124m\"\u001B[39m\u001B[38;5;124mPlease install the 2019 Visual C++ runtime and then try again. \u001B[39m\u001B[38;5;124m\"\u001B[39m\n\u001B[0;32m     26\u001B[0m                           \u001B[38;5;124m\"\u001B[39m\u001B[38;5;124mIf you\u001B[39m\u001B[38;5;124m'\u001B[39m\u001B[38;5;124mve installed the runtime in a non-standard location \u001B[39m\u001B[38;5;124m\"\u001B[39m\n\u001B[0;32m     27\u001B[0m                           \u001B[38;5;124m\"\u001B[39m\u001B[38;5;124m(other than \u001B[39m\u001B[38;5;124m%\u001B[39m\u001B[38;5;124mSystemRoot\u001B[39m\u001B[38;5;124m%\u001B[39m\u001B[38;5;130;01m\\\\\u001B[39;00m\u001B[38;5;124mSystem32), \u001B[39m\u001B[38;5;124m\"\u001B[39m\n\u001B[0;32m     28\u001B[0m                           \u001B[38;5;124m\"\u001B[39m\u001B[38;5;124mmake sure it can be found by setting the correct path.\u001B[39m\u001B[38;5;124m\"\u001B[39m)\n\u001B[1;32m---> 32\u001B[0m \u001B[38;5;28;01mfrom\u001B[39;00m \u001B[38;5;21;01m.\u001B[39;00m\u001B[38;5;21;01monnxruntime_pybind11_state\u001B[39;00m \u001B[38;5;28;01mimport\u001B[39;00m \u001B[38;5;241m*\u001B[39m  \u001B[38;5;66;03m# noqa\u001B[39;00m\n",
      "\u001B[1;31mImportError\u001B[0m: DLL load failed while importing onnxruntime_pybind11_state: A dynamic link library (DLL) initialization routine failed.",
      "\nThe above exception was the direct cause of the following exception:\n",
      "\u001B[1;31mRuntimeError\u001B[0m                              Traceback (most recent call last)",
      "Cell \u001B[1;32mIn[2], line 18\u001B[0m\n\u001B[0;32m     15\u001B[0m os\u001B[38;5;241m.\u001B[39mmakedirs(output_folder, exist_ok\u001B[38;5;241m=\u001B[39m\u001B[38;5;28;01mTrue\u001B[39;00m)\n\u001B[0;32m     17\u001B[0m \u001B[38;5;66;03m# Load Stable Diffusion XL pipeline\u001B[39;00m\n\u001B[1;32m---> 18\u001B[0m pipe \u001B[38;5;241m=\u001B[39m \u001B[43mStableDiffusionXLImg2ImgPipeline\u001B[49m\u001B[38;5;241;43m.\u001B[39;49m\u001B[43mfrom_pretrained\u001B[49m\u001B[43m(\u001B[49m\n\u001B[0;32m     19\u001B[0m \u001B[43m    \u001B[49m\u001B[38;5;124;43m\"\u001B[39;49m\u001B[38;5;124;43mstabilityai/stable-diffusion-xl-refiner-1.0\u001B[39;49m\u001B[38;5;124;43m\"\u001B[39;49m\u001B[43m,\u001B[49m\n\u001B[0;32m     20\u001B[0m \u001B[43m    \u001B[49m\u001B[43mtorch_dtype\u001B[49m\u001B[38;5;241;43m=\u001B[39;49m\u001B[43mtorch\u001B[49m\u001B[38;5;241;43m.\u001B[39;49m\u001B[43mfloat16\u001B[49m\u001B[43m,\u001B[49m\n\u001B[0;32m     21\u001B[0m \u001B[43m    \u001B[49m\u001B[43mvariant\u001B[49m\u001B[38;5;241;43m=\u001B[39;49m\u001B[38;5;124;43m\"\u001B[39;49m\u001B[38;5;124;43mfp16\u001B[39;49m\u001B[38;5;124;43m\"\u001B[39;49m\u001B[43m,\u001B[49m\n\u001B[0;32m     22\u001B[0m \u001B[43m    \u001B[49m\u001B[43muse_safetensors\u001B[49m\u001B[38;5;241;43m=\u001B[39;49m\u001B[38;5;28;43;01mTrue\u001B[39;49;00m\n\u001B[0;32m     23\u001B[0m \u001B[43m)\u001B[49m\n\u001B[0;32m     24\u001B[0m pipe \u001B[38;5;241m=\u001B[39m pipe\u001B[38;5;241m.\u001B[39mto(\u001B[38;5;124m\"\u001B[39m\u001B[38;5;124mcuda\u001B[39m\u001B[38;5;124m\"\u001B[39m)\n\u001B[0;32m     26\u001B[0m \u001B[38;5;66;03m# Function to load YOLO bounding boxes from a text file\u001B[39;00m\n",
      "File \u001B[1;32m~\\.conda\\envs\\autoannotate\\Lib\\site-packages\\huggingface_hub\\utils\\_validators.py:114\u001B[0m, in \u001B[0;36mvalidate_hf_hub_args.<locals>._inner_fn\u001B[1;34m(*args, **kwargs)\u001B[0m\n\u001B[0;32m    111\u001B[0m \u001B[38;5;28;01mif\u001B[39;00m check_use_auth_token:\n\u001B[0;32m    112\u001B[0m     kwargs \u001B[38;5;241m=\u001B[39m smoothly_deprecate_use_auth_token(fn_name\u001B[38;5;241m=\u001B[39mfn\u001B[38;5;241m.\u001B[39m\u001B[38;5;18m__name__\u001B[39m, has_token\u001B[38;5;241m=\u001B[39mhas_token, kwargs\u001B[38;5;241m=\u001B[39mkwargs)\n\u001B[1;32m--> 114\u001B[0m \u001B[38;5;28;01mreturn\u001B[39;00m \u001B[43mfn\u001B[49m\u001B[43m(\u001B[49m\u001B[38;5;241;43m*\u001B[39;49m\u001B[43margs\u001B[49m\u001B[43m,\u001B[49m\u001B[43m \u001B[49m\u001B[38;5;241;43m*\u001B[39;49m\u001B[38;5;241;43m*\u001B[39;49m\u001B[43mkwargs\u001B[49m\u001B[43m)\u001B[49m\n",
      "File \u001B[1;32m~\\.conda\\envs\\autoannotate\\Lib\\site-packages\\diffusers\\pipelines\\pipeline_utils.py:961\u001B[0m, in \u001B[0;36mDiffusionPipeline.from_pretrained\u001B[1;34m(cls, pretrained_model_name_or_path, **kwargs)\u001B[0m\n\u001B[0;32m    954\u001B[0m \u001B[38;5;28;01melse\u001B[39;00m:\n\u001B[0;32m    955\u001B[0m     \u001B[38;5;66;03m# load sub model\u001B[39;00m\n\u001B[0;32m    956\u001B[0m     sub_model_dtype \u001B[38;5;241m=\u001B[39m (\n\u001B[0;32m    957\u001B[0m         torch_dtype\u001B[38;5;241m.\u001B[39mget(name, torch_dtype\u001B[38;5;241m.\u001B[39mget(\u001B[38;5;124m\"\u001B[39m\u001B[38;5;124mdefault\u001B[39m\u001B[38;5;124m\"\u001B[39m, torch\u001B[38;5;241m.\u001B[39mfloat32))\n\u001B[0;32m    958\u001B[0m         \u001B[38;5;28;01mif\u001B[39;00m \u001B[38;5;28misinstance\u001B[39m(torch_dtype, \u001B[38;5;28mdict\u001B[39m)\n\u001B[0;32m    959\u001B[0m         \u001B[38;5;28;01melse\u001B[39;00m torch_dtype\n\u001B[0;32m    960\u001B[0m     )\n\u001B[1;32m--> 961\u001B[0m     loaded_sub_model \u001B[38;5;241m=\u001B[39m \u001B[43mload_sub_model\u001B[49m\u001B[43m(\u001B[49m\n\u001B[0;32m    962\u001B[0m \u001B[43m        \u001B[49m\u001B[43mlibrary_name\u001B[49m\u001B[38;5;241;43m=\u001B[39;49m\u001B[43mlibrary_name\u001B[49m\u001B[43m,\u001B[49m\n\u001B[0;32m    963\u001B[0m \u001B[43m        \u001B[49m\u001B[43mclass_name\u001B[49m\u001B[38;5;241;43m=\u001B[39;49m\u001B[43mclass_name\u001B[49m\u001B[43m,\u001B[49m\n\u001B[0;32m    964\u001B[0m \u001B[43m        \u001B[49m\u001B[43mimportable_classes\u001B[49m\u001B[38;5;241;43m=\u001B[39;49m\u001B[43mimportable_classes\u001B[49m\u001B[43m,\u001B[49m\n\u001B[0;32m    965\u001B[0m \u001B[43m        \u001B[49m\u001B[43mpipelines\u001B[49m\u001B[38;5;241;43m=\u001B[39;49m\u001B[43mpipelines\u001B[49m\u001B[43m,\u001B[49m\n\u001B[0;32m    966\u001B[0m \u001B[43m        \u001B[49m\u001B[43mis_pipeline_module\u001B[49m\u001B[38;5;241;43m=\u001B[39;49m\u001B[43mis_pipeline_module\u001B[49m\u001B[43m,\u001B[49m\n\u001B[0;32m    967\u001B[0m \u001B[43m        \u001B[49m\u001B[43mpipeline_class\u001B[49m\u001B[38;5;241;43m=\u001B[39;49m\u001B[43mpipeline_class\u001B[49m\u001B[43m,\u001B[49m\n\u001B[0;32m    968\u001B[0m \u001B[43m        \u001B[49m\u001B[43mtorch_dtype\u001B[49m\u001B[38;5;241;43m=\u001B[39;49m\u001B[43msub_model_dtype\u001B[49m\u001B[43m,\u001B[49m\n\u001B[0;32m    969\u001B[0m \u001B[43m        \u001B[49m\u001B[43mprovider\u001B[49m\u001B[38;5;241;43m=\u001B[39;49m\u001B[43mprovider\u001B[49m\u001B[43m,\u001B[49m\n\u001B[0;32m    970\u001B[0m \u001B[43m        \u001B[49m\u001B[43msess_options\u001B[49m\u001B[38;5;241;43m=\u001B[39;49m\u001B[43msess_options\u001B[49m\u001B[43m,\u001B[49m\n\u001B[0;32m    971\u001B[0m \u001B[43m        \u001B[49m\u001B[43mdevice_map\u001B[49m\u001B[38;5;241;43m=\u001B[39;49m\u001B[43mcurrent_device_map\u001B[49m\u001B[43m,\u001B[49m\n\u001B[0;32m    972\u001B[0m \u001B[43m        \u001B[49m\u001B[43mmax_memory\u001B[49m\u001B[38;5;241;43m=\u001B[39;49m\u001B[43mmax_memory\u001B[49m\u001B[43m,\u001B[49m\n\u001B[0;32m    973\u001B[0m \u001B[43m        \u001B[49m\u001B[43moffload_folder\u001B[49m\u001B[38;5;241;43m=\u001B[39;49m\u001B[43moffload_folder\u001B[49m\u001B[43m,\u001B[49m\n\u001B[0;32m    974\u001B[0m \u001B[43m        \u001B[49m\u001B[43moffload_state_dict\u001B[49m\u001B[38;5;241;43m=\u001B[39;49m\u001B[43moffload_state_dict\u001B[49m\u001B[43m,\u001B[49m\n\u001B[0;32m    975\u001B[0m \u001B[43m        \u001B[49m\u001B[43mmodel_variants\u001B[49m\u001B[38;5;241;43m=\u001B[39;49m\u001B[43mmodel_variants\u001B[49m\u001B[43m,\u001B[49m\n\u001B[0;32m    976\u001B[0m \u001B[43m        \u001B[49m\u001B[43mname\u001B[49m\u001B[38;5;241;43m=\u001B[39;49m\u001B[43mname\u001B[49m\u001B[43m,\u001B[49m\n\u001B[0;32m    977\u001B[0m \u001B[43m        \u001B[49m\u001B[43mfrom_flax\u001B[49m\u001B[38;5;241;43m=\u001B[39;49m\u001B[43mfrom_flax\u001B[49m\u001B[43m,\u001B[49m\n\u001B[0;32m    978\u001B[0m \u001B[43m        \u001B[49m\u001B[43mvariant\u001B[49m\u001B[38;5;241;43m=\u001B[39;49m\u001B[43mvariant\u001B[49m\u001B[43m,\u001B[49m\n\u001B[0;32m    979\u001B[0m \u001B[43m        \u001B[49m\u001B[43mlow_cpu_mem_usage\u001B[49m\u001B[38;5;241;43m=\u001B[39;49m\u001B[43mlow_cpu_mem_usage\u001B[49m\u001B[43m,\u001B[49m\n\u001B[0;32m    980\u001B[0m \u001B[43m        \u001B[49m\u001B[43mcached_folder\u001B[49m\u001B[38;5;241;43m=\u001B[39;49m\u001B[43mcached_folder\u001B[49m\u001B[43m,\u001B[49m\n\u001B[0;32m    981\u001B[0m \u001B[43m        \u001B[49m\u001B[43muse_safetensors\u001B[49m\u001B[38;5;241;43m=\u001B[39;49m\u001B[43muse_safetensors\u001B[49m\u001B[43m,\u001B[49m\n\u001B[0;32m    982\u001B[0m \u001B[43m        \u001B[49m\u001B[43mdduf_entries\u001B[49m\u001B[38;5;241;43m=\u001B[39;49m\u001B[43mdduf_entries\u001B[49m\u001B[43m,\u001B[49m\n\u001B[0;32m    983\u001B[0m \u001B[43m        \u001B[49m\u001B[43mprovider_options\u001B[49m\u001B[38;5;241;43m=\u001B[39;49m\u001B[43mprovider_options\u001B[49m\u001B[43m,\u001B[49m\n\u001B[0;32m    984\u001B[0m \u001B[43m    \u001B[49m\u001B[43m)\u001B[49m\n\u001B[0;32m    985\u001B[0m     logger\u001B[38;5;241m.\u001B[39minfo(\n\u001B[0;32m    986\u001B[0m         \u001B[38;5;124mf\u001B[39m\u001B[38;5;124m\"\u001B[39m\u001B[38;5;124mLoaded \u001B[39m\u001B[38;5;132;01m{\u001B[39;00mname\u001B[38;5;132;01m}\u001B[39;00m\u001B[38;5;124m as \u001B[39m\u001B[38;5;132;01m{\u001B[39;00mclass_name\u001B[38;5;132;01m}\u001B[39;00m\u001B[38;5;124m from `\u001B[39m\u001B[38;5;132;01m{\u001B[39;00mname\u001B[38;5;132;01m}\u001B[39;00m\u001B[38;5;124m` subfolder of \u001B[39m\u001B[38;5;132;01m{\u001B[39;00mpretrained_model_name_or_path\u001B[38;5;132;01m}\u001B[39;00m\u001B[38;5;124m.\u001B[39m\u001B[38;5;124m\"\u001B[39m\n\u001B[0;32m    987\u001B[0m     )\n\u001B[0;32m    989\u001B[0m init_kwargs[name] \u001B[38;5;241m=\u001B[39m loaded_sub_model  \u001B[38;5;66;03m# UNet(...), # DiffusionSchedule(...)\u001B[39;00m\n",
      "File \u001B[1;32m~\\.conda\\envs\\autoannotate\\Lib\\site-packages\\diffusers\\pipelines\\pipeline_loading_utils.py:721\u001B[0m, in \u001B[0;36mload_sub_model\u001B[1;34m(library_name, class_name, importable_classes, pipelines, is_pipeline_module, pipeline_class, torch_dtype, provider, sess_options, device_map, max_memory, offload_folder, offload_state_dict, model_variants, name, from_flax, variant, low_cpu_mem_usage, cached_folder, use_safetensors, dduf_entries, provider_options)\u001B[0m\n\u001B[0;32m    719\u001B[0m \u001B[38;5;28;01mif\u001B[39;00m \u001B[38;5;28missubclass\u001B[39m(class_obj, torch\u001B[38;5;241m.\u001B[39mnn\u001B[38;5;241m.\u001B[39mModule):\n\u001B[0;32m    720\u001B[0m     loading_kwargs[\u001B[38;5;124m\"\u001B[39m\u001B[38;5;124mtorch_dtype\u001B[39m\u001B[38;5;124m\"\u001B[39m] \u001B[38;5;241m=\u001B[39m torch_dtype\n\u001B[1;32m--> 721\u001B[0m \u001B[38;5;28;01mif\u001B[39;00m \u001B[38;5;28missubclass\u001B[39m(class_obj, \u001B[43mdiffusers_module\u001B[49m\u001B[38;5;241;43m.\u001B[39;49m\u001B[43mOnnxRuntimeModel\u001B[49m):\n\u001B[0;32m    722\u001B[0m     loading_kwargs[\u001B[38;5;124m\"\u001B[39m\u001B[38;5;124mprovider\u001B[39m\u001B[38;5;124m\"\u001B[39m] \u001B[38;5;241m=\u001B[39m provider\n\u001B[0;32m    723\u001B[0m     loading_kwargs[\u001B[38;5;124m\"\u001B[39m\u001B[38;5;124msess_options\u001B[39m\u001B[38;5;124m\"\u001B[39m] \u001B[38;5;241m=\u001B[39m sess_options\n",
      "File \u001B[1;32m~\\.conda\\envs\\autoannotate\\Lib\\site-packages\\diffusers\\utils\\import_utils.py:811\u001B[0m, in \u001B[0;36m_LazyModule.__getattr__\u001B[1;34m(self, name)\u001B[0m\n\u001B[0;32m    809\u001B[0m \u001B[38;5;28;01melif\u001B[39;00m name \u001B[38;5;129;01min\u001B[39;00m \u001B[38;5;28mself\u001B[39m\u001B[38;5;241m.\u001B[39m_class_to_module\u001B[38;5;241m.\u001B[39mkeys():\n\u001B[0;32m    810\u001B[0m     module \u001B[38;5;241m=\u001B[39m \u001B[38;5;28mself\u001B[39m\u001B[38;5;241m.\u001B[39m_get_module(\u001B[38;5;28mself\u001B[39m\u001B[38;5;241m.\u001B[39m_class_to_module[name])\n\u001B[1;32m--> 811\u001B[0m     value \u001B[38;5;241m=\u001B[39m \u001B[38;5;28;43mgetattr\u001B[39;49m\u001B[43m(\u001B[49m\u001B[43mmodule\u001B[49m\u001B[43m,\u001B[49m\u001B[43m \u001B[49m\u001B[43mname\u001B[49m\u001B[43m)\u001B[49m\n\u001B[0;32m    812\u001B[0m \u001B[38;5;28;01melse\u001B[39;00m:\n\u001B[0;32m    813\u001B[0m     \u001B[38;5;28;01mraise\u001B[39;00m \u001B[38;5;167;01mAttributeError\u001B[39;00m(\u001B[38;5;124mf\u001B[39m\u001B[38;5;124m\"\u001B[39m\u001B[38;5;124mmodule \u001B[39m\u001B[38;5;132;01m{\u001B[39;00m\u001B[38;5;28mself\u001B[39m\u001B[38;5;241m.\u001B[39m\u001B[38;5;18m__name__\u001B[39m\u001B[38;5;132;01m}\u001B[39;00m\u001B[38;5;124m has no attribute \u001B[39m\u001B[38;5;132;01m{\u001B[39;00mname\u001B[38;5;132;01m}\u001B[39;00m\u001B[38;5;124m\"\u001B[39m)\n",
      "File \u001B[1;32m~\\.conda\\envs\\autoannotate\\Lib\\site-packages\\diffusers\\utils\\import_utils.py:810\u001B[0m, in \u001B[0;36m_LazyModule.__getattr__\u001B[1;34m(self, name)\u001B[0m\n\u001B[0;32m    808\u001B[0m     value \u001B[38;5;241m=\u001B[39m \u001B[38;5;28mself\u001B[39m\u001B[38;5;241m.\u001B[39m_get_module(name)\n\u001B[0;32m    809\u001B[0m \u001B[38;5;28;01melif\u001B[39;00m name \u001B[38;5;129;01min\u001B[39;00m \u001B[38;5;28mself\u001B[39m\u001B[38;5;241m.\u001B[39m_class_to_module\u001B[38;5;241m.\u001B[39mkeys():\n\u001B[1;32m--> 810\u001B[0m     module \u001B[38;5;241m=\u001B[39m \u001B[38;5;28;43mself\u001B[39;49m\u001B[38;5;241;43m.\u001B[39;49m\u001B[43m_get_module\u001B[49m\u001B[43m(\u001B[49m\u001B[38;5;28;43mself\u001B[39;49m\u001B[38;5;241;43m.\u001B[39;49m\u001B[43m_class_to_module\u001B[49m\u001B[43m[\u001B[49m\u001B[43mname\u001B[49m\u001B[43m]\u001B[49m\u001B[43m)\u001B[49m\n\u001B[0;32m    811\u001B[0m     value \u001B[38;5;241m=\u001B[39m \u001B[38;5;28mgetattr\u001B[39m(module, name)\n\u001B[0;32m    812\u001B[0m \u001B[38;5;28;01melse\u001B[39;00m:\n",
      "File \u001B[1;32m~\\.conda\\envs\\autoannotate\\Lib\\site-packages\\diffusers\\utils\\import_utils.py:822\u001B[0m, in \u001B[0;36m_LazyModule._get_module\u001B[1;34m(self, module_name)\u001B[0m\n\u001B[0;32m    820\u001B[0m     \u001B[38;5;28;01mreturn\u001B[39;00m importlib\u001B[38;5;241m.\u001B[39mimport_module(\u001B[38;5;124m\"\u001B[39m\u001B[38;5;124m.\u001B[39m\u001B[38;5;124m\"\u001B[39m \u001B[38;5;241m+\u001B[39m module_name, \u001B[38;5;28mself\u001B[39m\u001B[38;5;241m.\u001B[39m\u001B[38;5;18m__name__\u001B[39m)\n\u001B[0;32m    821\u001B[0m \u001B[38;5;28;01mexcept\u001B[39;00m \u001B[38;5;167;01mException\u001B[39;00m \u001B[38;5;28;01mas\u001B[39;00m e:\n\u001B[1;32m--> 822\u001B[0m     \u001B[38;5;28;01mraise\u001B[39;00m \u001B[38;5;167;01mRuntimeError\u001B[39;00m(\n\u001B[0;32m    823\u001B[0m         \u001B[38;5;124mf\u001B[39m\u001B[38;5;124m\"\u001B[39m\u001B[38;5;124mFailed to import \u001B[39m\u001B[38;5;132;01m{\u001B[39;00m\u001B[38;5;28mself\u001B[39m\u001B[38;5;241m.\u001B[39m\u001B[38;5;18m__name__\u001B[39m\u001B[38;5;132;01m}\u001B[39;00m\u001B[38;5;124m.\u001B[39m\u001B[38;5;132;01m{\u001B[39;00mmodule_name\u001B[38;5;132;01m}\u001B[39;00m\u001B[38;5;124m because of the following error (look up to see its\u001B[39m\u001B[38;5;124m\"\u001B[39m\n\u001B[0;32m    824\u001B[0m         \u001B[38;5;124mf\u001B[39m\u001B[38;5;124m\"\u001B[39m\u001B[38;5;124m traceback):\u001B[39m\u001B[38;5;130;01m\\n\u001B[39;00m\u001B[38;5;132;01m{\u001B[39;00me\u001B[38;5;132;01m}\u001B[39;00m\u001B[38;5;124m\"\u001B[39m\n\u001B[0;32m    825\u001B[0m     ) \u001B[38;5;28;01mfrom\u001B[39;00m \u001B[38;5;21;01me\u001B[39;00m\n",
      "\u001B[1;31mRuntimeError\u001B[0m: Failed to import diffusers.pipelines.onnx_utils because of the following error (look up to see its traceback):\nDLL load failed while importing onnxruntime_pybind11_state: A dynamic link library (DLL) initialization routine failed."
     ]
    }
   ],
   "source": [
    "import os\n",
    "from PIL import Image, ImageChops\n",
    "from diffusers import StableDiffusionXLImg2ImgPipeline\n",
    "from torchvision.ops import box_convert\n",
    "import torch\n",
    "import numpy as np\n",
    "\n",
    "# Configuration\n",
    "source_folder = r\"C:\\Users\\Mechanized Systems\\DataspellProjects\\AutoAnnotate\\GUI and Pipeline\\blueberry-detection---GT-10\\train\\images\"\n",
    "output_folder = \"./variations\"\n",
    "prompt = \"generate accurate variation\"\n",
    "yolo_labels_folder = r\"C:\\Users\\Mechanized Systems\\DataspellProjects\\AutoAnnotate\\GUI and Pipeline\\blueberry-detection---GT-10\\train\\labels\"\n",
    "\n",
    "# Ensure output directory exists\n",
    "os.makedirs(output_folder, exist_ok=True)\n",
    "\n",
    "# Load Stable Diffusion XL pipeline\n",
    "pipe = StableDiffusionXLImg2ImgPipeline.from_pretrained(\n",
    "    \"stabilityai/stable-diffusion-xl-refiner-1.0\",\n",
    "    torch_dtype=torch.float16,\n",
    "    variant=\"fp16\",\n",
    "    use_safetensors=True\n",
    ")\n",
    "pipe = pipe.to(\"cuda\")\n",
    "\n",
    "# Function to load YOLO bounding boxes from a text file\n",
    "def load_yolo_boxes(label_path, img_width, img_height):\n",
    "    boxes = []\n",
    "    with open(label_path, 'r') as file:\n",
    "        for line in file:\n",
    "            parts = line.strip().split()\n",
    "            _, x_center, y_center, width, height = map(float, parts)\n",
    "            boxes.append([x_center, y_center, width, height])\n",
    "\n",
    "    boxes_tensor = torch.tensor(boxes)\n",
    "    boxes_unnorm = boxes_tensor * torch.Tensor([img_width, img_height, img_width, img_height])\n",
    "    boxes_xyxy = box_convert(boxes=boxes_unnorm, in_fmt=\"cxcywh\", out_fmt=\"xyxy\").numpy()\n",
    "\n",
    "    return boxes_xyxy\n",
    "\n",
    "# Loop through images in folder\n",
    "for filename in os.listdir(source_folder):\n",
    "    if filename.lower().endswith((\".png\", \".jpg\", \".jpeg\", \".bmp\")):\n",
    "        input_image_path = os.path.join(source_folder, filename)\n",
    "        label_filename = os.path.splitext(filename)[0] + \".txt\"\n",
    "        label_path = os.path.join(yolo_labels_folder, label_filename)\n",
    "        output_image_path = os.path.join(output_folder, f\"variation_{filename}\")\n",
    "\n",
    "        # Load image\n",
    "        image = Image.open(input_image_path).convert(\"RGB\")\n",
    "        img_width, img_height = image.size\n",
    "\n",
    "        # Load YOLO boxes\n",
    "        boxes_xyxy = load_yolo_boxes(label_path, img_width, img_height)\n",
    "\n",
    "        # Generate mask from boxes\n",
    "        mask = np.zeros((img_height, img_width), dtype=np.uint8)\n",
    "        for x0, y0, x1, y1 in boxes_xyxy:\n",
    "            mask[int(y0):int(y1), int(x0):int(x1)] = 255\n",
    "\n",
    "        image_mask = Image.fromarray(mask)\n",
    "\n",
    "        # Resize images and masks for inpainting\n",
    "        image_resized = image.resize((512, 512))\n",
    "        mask_resized = image_mask.resize((512, 512))\n",
    "        mask_inverted = ImageChops.invert(mask_resized)\n",
    "\n",
    "        # Generate variation\n",
    "        variation = pipe(prompt=prompt, image=image_resized, mask_image=mask_inverted).images[0]\n",
    "\n",
    "        # Resize variation back to original size\n",
    "        variation = variation.resize(image.size)\n",
    "\n",
    "        # Overlay original box components onto the variation\n",
    "        original_boxes_image = Image.composite(image, variation, image_mask)\n",
    "\n",
    "        # Save output\n",
    "        original_boxes_image.save(output_image_path)\n"
   ],
   "metadata": {
    "collapsed": false
   }
  },
  {
   "cell_type": "code",
   "execution_count": 1,
   "outputs": [
    {
     "data": {
      "text/plain": "Loading pipeline components...:   0%|          | 0/5 [00:00<?, ?it/s]",
      "application/vnd.jupyter.widget-view+json": {
       "version_major": 2,
       "version_minor": 0,
       "model_id": "bc753c38aca143ec9027e122d8e89785"
      }
     },
     "metadata": {},
     "output_type": "display_data"
    },
    {
     "ename": "RuntimeError",
     "evalue": "Failed to import diffusers.pipelines.onnx_utils because of the following error (look up to see its traceback):\nDLL load failed while importing onnxruntime_pybind11_state: A dynamic link library (DLL) initialization routine failed.",
     "output_type": "error",
     "traceback": [
      "\u001B[1;31m---------------------------------------------------------------------------\u001B[0m",
      "\u001B[1;31mImportError\u001B[0m                               Traceback (most recent call last)",
      "File \u001B[1;32m~\\.conda\\envs\\autoannotate\\Lib\\site-packages\\diffusers\\utils\\import_utils.py:820\u001B[0m, in \u001B[0;36m_LazyModule._get_module\u001B[1;34m(self, module_name)\u001B[0m\n\u001B[0;32m    819\u001B[0m \u001B[38;5;28;01mtry\u001B[39;00m:\n\u001B[1;32m--> 820\u001B[0m     \u001B[38;5;28;01mreturn\u001B[39;00m \u001B[43mimportlib\u001B[49m\u001B[38;5;241;43m.\u001B[39;49m\u001B[43mimport_module\u001B[49m\u001B[43m(\u001B[49m\u001B[38;5;124;43m\"\u001B[39;49m\u001B[38;5;124;43m.\u001B[39;49m\u001B[38;5;124;43m\"\u001B[39;49m\u001B[43m \u001B[49m\u001B[38;5;241;43m+\u001B[39;49m\u001B[43m \u001B[49m\u001B[43mmodule_name\u001B[49m\u001B[43m,\u001B[49m\u001B[43m \u001B[49m\u001B[38;5;28;43mself\u001B[39;49m\u001B[38;5;241;43m.\u001B[39;49m\u001B[38;5;18;43m__name__\u001B[39;49m\u001B[43m)\u001B[49m\n\u001B[0;32m    821\u001B[0m \u001B[38;5;28;01mexcept\u001B[39;00m \u001B[38;5;167;01mException\u001B[39;00m \u001B[38;5;28;01mas\u001B[39;00m e:\n",
      "File \u001B[1;32m~\\.conda\\envs\\autoannotate\\Lib\\importlib\\__init__.py:90\u001B[0m, in \u001B[0;36mimport_module\u001B[1;34m(name, package)\u001B[0m\n\u001B[0;32m     89\u001B[0m         level \u001B[38;5;241m+\u001B[39m\u001B[38;5;241m=\u001B[39m \u001B[38;5;241m1\u001B[39m\n\u001B[1;32m---> 90\u001B[0m \u001B[38;5;28;01mreturn\u001B[39;00m \u001B[43m_bootstrap\u001B[49m\u001B[38;5;241;43m.\u001B[39;49m\u001B[43m_gcd_import\u001B[49m\u001B[43m(\u001B[49m\u001B[43mname\u001B[49m\u001B[43m[\u001B[49m\u001B[43mlevel\u001B[49m\u001B[43m:\u001B[49m\u001B[43m]\u001B[49m\u001B[43m,\u001B[49m\u001B[43m \u001B[49m\u001B[43mpackage\u001B[49m\u001B[43m,\u001B[49m\u001B[43m \u001B[49m\u001B[43mlevel\u001B[49m\u001B[43m)\u001B[49m\n",
      "File \u001B[1;32m<frozen importlib._bootstrap>:1387\u001B[0m, in \u001B[0;36m_gcd_import\u001B[1;34m(name, package, level)\u001B[0m\n",
      "File \u001B[1;32m<frozen importlib._bootstrap>:1360\u001B[0m, in \u001B[0;36m_find_and_load\u001B[1;34m(name, import_)\u001B[0m\n",
      "File \u001B[1;32m<frozen importlib._bootstrap>:1331\u001B[0m, in \u001B[0;36m_find_and_load_unlocked\u001B[1;34m(name, import_)\u001B[0m\n",
      "File \u001B[1;32m<frozen importlib._bootstrap>:935\u001B[0m, in \u001B[0;36m_load_unlocked\u001B[1;34m(spec)\u001B[0m\n",
      "File \u001B[1;32m<frozen importlib._bootstrap_external>:995\u001B[0m, in \u001B[0;36mexec_module\u001B[1;34m(self, module)\u001B[0m\n",
      "File \u001B[1;32m<frozen importlib._bootstrap>:488\u001B[0m, in \u001B[0;36m_call_with_frames_removed\u001B[1;34m(f, *args, **kwds)\u001B[0m\n",
      "File \u001B[1;32m~\\.conda\\envs\\autoannotate\\Lib\\site-packages\\diffusers\\pipelines\\onnx_utils.py:31\u001B[0m\n\u001B[0;32m     30\u001B[0m \u001B[38;5;28;01mif\u001B[39;00m is_onnx_available():\n\u001B[1;32m---> 31\u001B[0m     \u001B[38;5;28;01mimport\u001B[39;00m \u001B[38;5;21;01monnxruntime\u001B[39;00m \u001B[38;5;28;01mas\u001B[39;00m \u001B[38;5;21;01mort\u001B[39;00m\n\u001B[0;32m     34\u001B[0m logger \u001B[38;5;241m=\u001B[39m logging\u001B[38;5;241m.\u001B[39mget_logger(\u001B[38;5;18m__name__\u001B[39m)\n",
      "File \u001B[1;32m~\\.conda\\envs\\autoannotate\\Lib\\site-packages\\onnxruntime\\__init__.py:61\u001B[0m\n\u001B[0;32m     60\u001B[0m \u001B[38;5;28;01mif\u001B[39;00m import_capi_exception:\n\u001B[1;32m---> 61\u001B[0m     \u001B[38;5;28;01mraise\u001B[39;00m import_capi_exception\n\u001B[0;32m     63\u001B[0m \u001B[38;5;28;01mfrom\u001B[39;00m \u001B[38;5;21;01monnxruntime\u001B[39;00m\u001B[38;5;21;01m.\u001B[39;00m\u001B[38;5;21;01mcapi\u001B[39;00m\u001B[38;5;21;01m.\u001B[39;00m\u001B[38;5;21;01monnxruntime_inference_collection\u001B[39;00m \u001B[38;5;28;01mimport\u001B[39;00m (\n\u001B[0;32m     64\u001B[0m     AdapterFormat,  \u001B[38;5;66;03m# noqa: F401\u001B[39;00m\n\u001B[0;32m     65\u001B[0m     InferenceSession,  \u001B[38;5;66;03m# noqa: F401\u001B[39;00m\n\u001B[1;32m   (...)\u001B[0m\n\u001B[0;32m     69\u001B[0m     SparseTensor,  \u001B[38;5;66;03m# noqa: F401\u001B[39;00m\n\u001B[0;32m     70\u001B[0m )\n",
      "File \u001B[1;32m~\\.conda\\envs\\autoannotate\\Lib\\site-packages\\onnxruntime\\__init__.py:24\u001B[0m\n\u001B[0;32m     23\u001B[0m \u001B[38;5;28;01mtry\u001B[39;00m:\n\u001B[1;32m---> 24\u001B[0m     \u001B[38;5;28;01mfrom\u001B[39;00m \u001B[38;5;21;01monnxruntime\u001B[39;00m\u001B[38;5;21;01m.\u001B[39;00m\u001B[38;5;21;01mcapi\u001B[39;00m\u001B[38;5;21;01m.\u001B[39;00m\u001B[38;5;21;01m_pybind_state\u001B[39;00m \u001B[38;5;28;01mimport\u001B[39;00m (\n\u001B[0;32m     25\u001B[0m         ExecutionMode,  \u001B[38;5;66;03m# noqa: F401\u001B[39;00m\n\u001B[0;32m     26\u001B[0m         ExecutionOrder,  \u001B[38;5;66;03m# noqa: F401\u001B[39;00m\n\u001B[0;32m     27\u001B[0m         GraphOptimizationLevel,  \u001B[38;5;66;03m# noqa: F401\u001B[39;00m\n\u001B[0;32m     28\u001B[0m         LoraAdapter,  \u001B[38;5;66;03m# noqa: F401\u001B[39;00m\n\u001B[0;32m     29\u001B[0m         ModelMetadata,  \u001B[38;5;66;03m# noqa: F401\u001B[39;00m\n\u001B[0;32m     30\u001B[0m         NodeArg,  \u001B[38;5;66;03m# noqa: F401\u001B[39;00m\n\u001B[0;32m     31\u001B[0m         OrtAllocatorType,  \u001B[38;5;66;03m# noqa: F401\u001B[39;00m\n\u001B[0;32m     32\u001B[0m         OrtArenaCfg,  \u001B[38;5;66;03m# noqa: F401\u001B[39;00m\n\u001B[0;32m     33\u001B[0m         OrtMemoryInfo,  \u001B[38;5;66;03m# noqa: F401\u001B[39;00m\n\u001B[0;32m     34\u001B[0m         OrtMemType,  \u001B[38;5;66;03m# noqa: F401\u001B[39;00m\n\u001B[0;32m     35\u001B[0m         OrtSparseFormat,  \u001B[38;5;66;03m# noqa: F401\u001B[39;00m\n\u001B[0;32m     36\u001B[0m         RunOptions,  \u001B[38;5;66;03m# noqa: F401\u001B[39;00m\n\u001B[0;32m     37\u001B[0m         SessionIOBinding,  \u001B[38;5;66;03m# noqa: F401\u001B[39;00m\n\u001B[0;32m     38\u001B[0m         SessionOptions,  \u001B[38;5;66;03m# noqa: F401\u001B[39;00m\n\u001B[0;32m     39\u001B[0m         create_and_register_allocator,  \u001B[38;5;66;03m# noqa: F401\u001B[39;00m\n\u001B[0;32m     40\u001B[0m         create_and_register_allocator_v2,  \u001B[38;5;66;03m# noqa: F401\u001B[39;00m\n\u001B[0;32m     41\u001B[0m         disable_telemetry_events,  \u001B[38;5;66;03m# noqa: F401\u001B[39;00m\n\u001B[0;32m     42\u001B[0m         enable_telemetry_events,  \u001B[38;5;66;03m# noqa: F401\u001B[39;00m\n\u001B[0;32m     43\u001B[0m         get_all_providers,  \u001B[38;5;66;03m# noqa: F401\u001B[39;00m\n\u001B[0;32m     44\u001B[0m         get_available_providers,  \u001B[38;5;66;03m# noqa: F401\u001B[39;00m\n\u001B[0;32m     45\u001B[0m         get_build_info,  \u001B[38;5;66;03m# noqa: F401\u001B[39;00m\n\u001B[0;32m     46\u001B[0m         get_device,  \u001B[38;5;66;03m# noqa: F401\u001B[39;00m\n\u001B[0;32m     47\u001B[0m         get_version_string,  \u001B[38;5;66;03m# noqa: F401\u001B[39;00m\n\u001B[0;32m     48\u001B[0m         has_collective_ops,  \u001B[38;5;66;03m# noqa: F401\u001B[39;00m\n\u001B[0;32m     49\u001B[0m         set_default_logger_severity,  \u001B[38;5;66;03m# noqa: F401\u001B[39;00m\n\u001B[0;32m     50\u001B[0m         set_default_logger_verbosity,  \u001B[38;5;66;03m# noqa: F401\u001B[39;00m\n\u001B[0;32m     51\u001B[0m         set_seed,  \u001B[38;5;66;03m# noqa: F401\u001B[39;00m\n\u001B[0;32m     52\u001B[0m     )\n\u001B[0;32m     54\u001B[0m     import_capi_exception \u001B[38;5;241m=\u001B[39m \u001B[38;5;28;01mNone\u001B[39;00m\n",
      "File \u001B[1;32m~\\.conda\\envs\\autoannotate\\Lib\\site-packages\\onnxruntime\\capi\\_pybind_state.py:32\u001B[0m\n\u001B[0;32m     25\u001B[0m             warnings\u001B[38;5;241m.\u001B[39mwarn(\u001B[38;5;124m\"\u001B[39m\u001B[38;5;124mPlease install the 2019 Visual C++ runtime and then try again. \u001B[39m\u001B[38;5;124m\"\u001B[39m\n\u001B[0;32m     26\u001B[0m                           \u001B[38;5;124m\"\u001B[39m\u001B[38;5;124mIf you\u001B[39m\u001B[38;5;124m'\u001B[39m\u001B[38;5;124mve installed the runtime in a non-standard location \u001B[39m\u001B[38;5;124m\"\u001B[39m\n\u001B[0;32m     27\u001B[0m                           \u001B[38;5;124m\"\u001B[39m\u001B[38;5;124m(other than \u001B[39m\u001B[38;5;124m%\u001B[39m\u001B[38;5;124mSystemRoot\u001B[39m\u001B[38;5;124m%\u001B[39m\u001B[38;5;130;01m\\\\\u001B[39;00m\u001B[38;5;124mSystem32), \u001B[39m\u001B[38;5;124m\"\u001B[39m\n\u001B[0;32m     28\u001B[0m                           \u001B[38;5;124m\"\u001B[39m\u001B[38;5;124mmake sure it can be found by setting the correct path.\u001B[39m\u001B[38;5;124m\"\u001B[39m)\n\u001B[1;32m---> 32\u001B[0m \u001B[38;5;28;01mfrom\u001B[39;00m \u001B[38;5;21;01m.\u001B[39;00m\u001B[38;5;21;01monnxruntime_pybind11_state\u001B[39;00m \u001B[38;5;28;01mimport\u001B[39;00m \u001B[38;5;241m*\u001B[39m  \u001B[38;5;66;03m# noqa\u001B[39;00m\n",
      "\u001B[1;31mImportError\u001B[0m: DLL load failed while importing onnxruntime_pybind11_state: A dynamic link library (DLL) initialization routine failed.",
      "\nThe above exception was the direct cause of the following exception:\n",
      "\u001B[1;31mRuntimeError\u001B[0m                              Traceback (most recent call last)",
      "Cell \u001B[1;32mIn[1], line 21\u001B[0m\n\u001B[0;32m     18\u001B[0m os\u001B[38;5;241m.\u001B[39mmakedirs(output_label_folder, exist_ok\u001B[38;5;241m=\u001B[39m\u001B[38;5;28;01mTrue\u001B[39;00m)\n\u001B[0;32m     20\u001B[0m \u001B[38;5;66;03m# Load Stable Diffusion XL pipeline\u001B[39;00m\n\u001B[1;32m---> 21\u001B[0m pipe \u001B[38;5;241m=\u001B[39m \u001B[43mStableDiffusionXLImg2ImgPipeline\u001B[49m\u001B[38;5;241;43m.\u001B[39;49m\u001B[43mfrom_pretrained\u001B[49m\u001B[43m(\u001B[49m\n\u001B[0;32m     22\u001B[0m \u001B[43m    \u001B[49m\u001B[38;5;124;43m\"\u001B[39;49m\u001B[38;5;124;43mstabilityai/stable-diffusion-xl-refiner-1.0\u001B[39;49m\u001B[38;5;124;43m\"\u001B[39;49m\u001B[43m,\u001B[49m\n\u001B[0;32m     23\u001B[0m \u001B[43m    \u001B[49m\u001B[43mtorch_dtype\u001B[49m\u001B[38;5;241;43m=\u001B[39;49m\u001B[43mtorch\u001B[49m\u001B[38;5;241;43m.\u001B[39;49m\u001B[43mfloat16\u001B[49m\u001B[43m,\u001B[49m\n\u001B[0;32m     24\u001B[0m \u001B[43m    \u001B[49m\u001B[43mvariant\u001B[49m\u001B[38;5;241;43m=\u001B[39;49m\u001B[38;5;124;43m\"\u001B[39;49m\u001B[38;5;124;43mfp16\u001B[39;49m\u001B[38;5;124;43m\"\u001B[39;49m\u001B[43m,\u001B[49m\n\u001B[0;32m     25\u001B[0m \u001B[43m    \u001B[49m\u001B[43muse_safetensors\u001B[49m\u001B[38;5;241;43m=\u001B[39;49m\u001B[38;5;28;43;01mTrue\u001B[39;49;00m\n\u001B[0;32m     26\u001B[0m \u001B[43m)\u001B[49m\n\u001B[0;32m     27\u001B[0m pipe \u001B[38;5;241m=\u001B[39m pipe\u001B[38;5;241m.\u001B[39mto(\u001B[38;5;124m\"\u001B[39m\u001B[38;5;124mcuda\u001B[39m\u001B[38;5;124m\"\u001B[39m)\n\u001B[0;32m     29\u001B[0m \u001B[38;5;66;03m# Function to load YOLO bounding boxes from a text file\u001B[39;00m\n",
      "File \u001B[1;32m~\\.conda\\envs\\autoannotate\\Lib\\site-packages\\huggingface_hub\\utils\\_validators.py:114\u001B[0m, in \u001B[0;36mvalidate_hf_hub_args.<locals>._inner_fn\u001B[1;34m(*args, **kwargs)\u001B[0m\n\u001B[0;32m    111\u001B[0m \u001B[38;5;28;01mif\u001B[39;00m check_use_auth_token:\n\u001B[0;32m    112\u001B[0m     kwargs \u001B[38;5;241m=\u001B[39m smoothly_deprecate_use_auth_token(fn_name\u001B[38;5;241m=\u001B[39mfn\u001B[38;5;241m.\u001B[39m\u001B[38;5;18m__name__\u001B[39m, has_token\u001B[38;5;241m=\u001B[39mhas_token, kwargs\u001B[38;5;241m=\u001B[39mkwargs)\n\u001B[1;32m--> 114\u001B[0m \u001B[38;5;28;01mreturn\u001B[39;00m \u001B[43mfn\u001B[49m\u001B[43m(\u001B[49m\u001B[38;5;241;43m*\u001B[39;49m\u001B[43margs\u001B[49m\u001B[43m,\u001B[49m\u001B[43m \u001B[49m\u001B[38;5;241;43m*\u001B[39;49m\u001B[38;5;241;43m*\u001B[39;49m\u001B[43mkwargs\u001B[49m\u001B[43m)\u001B[49m\n",
      "File \u001B[1;32m~\\.conda\\envs\\autoannotate\\Lib\\site-packages\\diffusers\\pipelines\\pipeline_utils.py:961\u001B[0m, in \u001B[0;36mDiffusionPipeline.from_pretrained\u001B[1;34m(cls, pretrained_model_name_or_path, **kwargs)\u001B[0m\n\u001B[0;32m    954\u001B[0m \u001B[38;5;28;01melse\u001B[39;00m:\n\u001B[0;32m    955\u001B[0m     \u001B[38;5;66;03m# load sub model\u001B[39;00m\n\u001B[0;32m    956\u001B[0m     sub_model_dtype \u001B[38;5;241m=\u001B[39m (\n\u001B[0;32m    957\u001B[0m         torch_dtype\u001B[38;5;241m.\u001B[39mget(name, torch_dtype\u001B[38;5;241m.\u001B[39mget(\u001B[38;5;124m\"\u001B[39m\u001B[38;5;124mdefault\u001B[39m\u001B[38;5;124m\"\u001B[39m, torch\u001B[38;5;241m.\u001B[39mfloat32))\n\u001B[0;32m    958\u001B[0m         \u001B[38;5;28;01mif\u001B[39;00m \u001B[38;5;28misinstance\u001B[39m(torch_dtype, \u001B[38;5;28mdict\u001B[39m)\n\u001B[0;32m    959\u001B[0m         \u001B[38;5;28;01melse\u001B[39;00m torch_dtype\n\u001B[0;32m    960\u001B[0m     )\n\u001B[1;32m--> 961\u001B[0m     loaded_sub_model \u001B[38;5;241m=\u001B[39m \u001B[43mload_sub_model\u001B[49m\u001B[43m(\u001B[49m\n\u001B[0;32m    962\u001B[0m \u001B[43m        \u001B[49m\u001B[43mlibrary_name\u001B[49m\u001B[38;5;241;43m=\u001B[39;49m\u001B[43mlibrary_name\u001B[49m\u001B[43m,\u001B[49m\n\u001B[0;32m    963\u001B[0m \u001B[43m        \u001B[49m\u001B[43mclass_name\u001B[49m\u001B[38;5;241;43m=\u001B[39;49m\u001B[43mclass_name\u001B[49m\u001B[43m,\u001B[49m\n\u001B[0;32m    964\u001B[0m \u001B[43m        \u001B[49m\u001B[43mimportable_classes\u001B[49m\u001B[38;5;241;43m=\u001B[39;49m\u001B[43mimportable_classes\u001B[49m\u001B[43m,\u001B[49m\n\u001B[0;32m    965\u001B[0m \u001B[43m        \u001B[49m\u001B[43mpipelines\u001B[49m\u001B[38;5;241;43m=\u001B[39;49m\u001B[43mpipelines\u001B[49m\u001B[43m,\u001B[49m\n\u001B[0;32m    966\u001B[0m \u001B[43m        \u001B[49m\u001B[43mis_pipeline_module\u001B[49m\u001B[38;5;241;43m=\u001B[39;49m\u001B[43mis_pipeline_module\u001B[49m\u001B[43m,\u001B[49m\n\u001B[0;32m    967\u001B[0m \u001B[43m        \u001B[49m\u001B[43mpipeline_class\u001B[49m\u001B[38;5;241;43m=\u001B[39;49m\u001B[43mpipeline_class\u001B[49m\u001B[43m,\u001B[49m\n\u001B[0;32m    968\u001B[0m \u001B[43m        \u001B[49m\u001B[43mtorch_dtype\u001B[49m\u001B[38;5;241;43m=\u001B[39;49m\u001B[43msub_model_dtype\u001B[49m\u001B[43m,\u001B[49m\n\u001B[0;32m    969\u001B[0m \u001B[43m        \u001B[49m\u001B[43mprovider\u001B[49m\u001B[38;5;241;43m=\u001B[39;49m\u001B[43mprovider\u001B[49m\u001B[43m,\u001B[49m\n\u001B[0;32m    970\u001B[0m \u001B[43m        \u001B[49m\u001B[43msess_options\u001B[49m\u001B[38;5;241;43m=\u001B[39;49m\u001B[43msess_options\u001B[49m\u001B[43m,\u001B[49m\n\u001B[0;32m    971\u001B[0m \u001B[43m        \u001B[49m\u001B[43mdevice_map\u001B[49m\u001B[38;5;241;43m=\u001B[39;49m\u001B[43mcurrent_device_map\u001B[49m\u001B[43m,\u001B[49m\n\u001B[0;32m    972\u001B[0m \u001B[43m        \u001B[49m\u001B[43mmax_memory\u001B[49m\u001B[38;5;241;43m=\u001B[39;49m\u001B[43mmax_memory\u001B[49m\u001B[43m,\u001B[49m\n\u001B[0;32m    973\u001B[0m \u001B[43m        \u001B[49m\u001B[43moffload_folder\u001B[49m\u001B[38;5;241;43m=\u001B[39;49m\u001B[43moffload_folder\u001B[49m\u001B[43m,\u001B[49m\n\u001B[0;32m    974\u001B[0m \u001B[43m        \u001B[49m\u001B[43moffload_state_dict\u001B[49m\u001B[38;5;241;43m=\u001B[39;49m\u001B[43moffload_state_dict\u001B[49m\u001B[43m,\u001B[49m\n\u001B[0;32m    975\u001B[0m \u001B[43m        \u001B[49m\u001B[43mmodel_variants\u001B[49m\u001B[38;5;241;43m=\u001B[39;49m\u001B[43mmodel_variants\u001B[49m\u001B[43m,\u001B[49m\n\u001B[0;32m    976\u001B[0m \u001B[43m        \u001B[49m\u001B[43mname\u001B[49m\u001B[38;5;241;43m=\u001B[39;49m\u001B[43mname\u001B[49m\u001B[43m,\u001B[49m\n\u001B[0;32m    977\u001B[0m \u001B[43m        \u001B[49m\u001B[43mfrom_flax\u001B[49m\u001B[38;5;241;43m=\u001B[39;49m\u001B[43mfrom_flax\u001B[49m\u001B[43m,\u001B[49m\n\u001B[0;32m    978\u001B[0m \u001B[43m        \u001B[49m\u001B[43mvariant\u001B[49m\u001B[38;5;241;43m=\u001B[39;49m\u001B[43mvariant\u001B[49m\u001B[43m,\u001B[49m\n\u001B[0;32m    979\u001B[0m \u001B[43m        \u001B[49m\u001B[43mlow_cpu_mem_usage\u001B[49m\u001B[38;5;241;43m=\u001B[39;49m\u001B[43mlow_cpu_mem_usage\u001B[49m\u001B[43m,\u001B[49m\n\u001B[0;32m    980\u001B[0m \u001B[43m        \u001B[49m\u001B[43mcached_folder\u001B[49m\u001B[38;5;241;43m=\u001B[39;49m\u001B[43mcached_folder\u001B[49m\u001B[43m,\u001B[49m\n\u001B[0;32m    981\u001B[0m \u001B[43m        \u001B[49m\u001B[43muse_safetensors\u001B[49m\u001B[38;5;241;43m=\u001B[39;49m\u001B[43muse_safetensors\u001B[49m\u001B[43m,\u001B[49m\n\u001B[0;32m    982\u001B[0m \u001B[43m        \u001B[49m\u001B[43mdduf_entries\u001B[49m\u001B[38;5;241;43m=\u001B[39;49m\u001B[43mdduf_entries\u001B[49m\u001B[43m,\u001B[49m\n\u001B[0;32m    983\u001B[0m \u001B[43m        \u001B[49m\u001B[43mprovider_options\u001B[49m\u001B[38;5;241;43m=\u001B[39;49m\u001B[43mprovider_options\u001B[49m\u001B[43m,\u001B[49m\n\u001B[0;32m    984\u001B[0m \u001B[43m    \u001B[49m\u001B[43m)\u001B[49m\n\u001B[0;32m    985\u001B[0m     logger\u001B[38;5;241m.\u001B[39minfo(\n\u001B[0;32m    986\u001B[0m         \u001B[38;5;124mf\u001B[39m\u001B[38;5;124m\"\u001B[39m\u001B[38;5;124mLoaded \u001B[39m\u001B[38;5;132;01m{\u001B[39;00mname\u001B[38;5;132;01m}\u001B[39;00m\u001B[38;5;124m as \u001B[39m\u001B[38;5;132;01m{\u001B[39;00mclass_name\u001B[38;5;132;01m}\u001B[39;00m\u001B[38;5;124m from `\u001B[39m\u001B[38;5;132;01m{\u001B[39;00mname\u001B[38;5;132;01m}\u001B[39;00m\u001B[38;5;124m` subfolder of \u001B[39m\u001B[38;5;132;01m{\u001B[39;00mpretrained_model_name_or_path\u001B[38;5;132;01m}\u001B[39;00m\u001B[38;5;124m.\u001B[39m\u001B[38;5;124m\"\u001B[39m\n\u001B[0;32m    987\u001B[0m     )\n\u001B[0;32m    989\u001B[0m init_kwargs[name] \u001B[38;5;241m=\u001B[39m loaded_sub_model  \u001B[38;5;66;03m# UNet(...), # DiffusionSchedule(...)\u001B[39;00m\n",
      "File \u001B[1;32m~\\.conda\\envs\\autoannotate\\Lib\\site-packages\\diffusers\\pipelines\\pipeline_loading_utils.py:683\u001B[0m, in \u001B[0;36mload_sub_model\u001B[1;34m(library_name, class_name, importable_classes, pipelines, is_pipeline_module, pipeline_class, torch_dtype, provider, sess_options, device_map, max_memory, offload_folder, offload_state_dict, model_variants, name, from_flax, variant, low_cpu_mem_usage, cached_folder, use_safetensors, dduf_entries, provider_options)\u001B[0m\n\u001B[0;32m    679\u001B[0m \u001B[38;5;250m\u001B[39m\u001B[38;5;124;03m\"\"\"Helper method to load the module `name` from `library_name` and `class_name`\"\"\"\u001B[39;00m\n\u001B[0;32m    681\u001B[0m \u001B[38;5;66;03m# retrieve class candidates\u001B[39;00m\n\u001B[1;32m--> 683\u001B[0m class_obj, class_candidates \u001B[38;5;241m=\u001B[39m \u001B[43mget_class_obj_and_candidates\u001B[49m\u001B[43m(\u001B[49m\n\u001B[0;32m    684\u001B[0m \u001B[43m    \u001B[49m\u001B[43mlibrary_name\u001B[49m\u001B[43m,\u001B[49m\n\u001B[0;32m    685\u001B[0m \u001B[43m    \u001B[49m\u001B[43mclass_name\u001B[49m\u001B[43m,\u001B[49m\n\u001B[0;32m    686\u001B[0m \u001B[43m    \u001B[49m\u001B[43mimportable_classes\u001B[49m\u001B[43m,\u001B[49m\n\u001B[0;32m    687\u001B[0m \u001B[43m    \u001B[49m\u001B[43mpipelines\u001B[49m\u001B[43m,\u001B[49m\n\u001B[0;32m    688\u001B[0m \u001B[43m    \u001B[49m\u001B[43mis_pipeline_module\u001B[49m\u001B[43m,\u001B[49m\n\u001B[0;32m    689\u001B[0m \u001B[43m    \u001B[49m\u001B[43mcomponent_name\u001B[49m\u001B[38;5;241;43m=\u001B[39;49m\u001B[43mname\u001B[49m\u001B[43m,\u001B[49m\n\u001B[0;32m    690\u001B[0m \u001B[43m    \u001B[49m\u001B[43mcache_dir\u001B[49m\u001B[38;5;241;43m=\u001B[39;49m\u001B[43mcached_folder\u001B[49m\u001B[43m,\u001B[49m\n\u001B[0;32m    691\u001B[0m \u001B[43m\u001B[49m\u001B[43m)\u001B[49m\n\u001B[0;32m    693\u001B[0m load_method_name \u001B[38;5;241m=\u001B[39m \u001B[38;5;28;01mNone\u001B[39;00m\n\u001B[0;32m    694\u001B[0m \u001B[38;5;66;03m# retrieve load method name\u001B[39;00m\n",
      "File \u001B[1;32m~\\.conda\\envs\\autoannotate\\Lib\\site-packages\\diffusers\\pipelines\\pipeline_loading_utils.py:356\u001B[0m, in \u001B[0;36mget_class_obj_and_candidates\u001B[1;34m(library_name, class_name, importable_classes, pipelines, is_pipeline_module, component_name, cache_dir)\u001B[0m\n\u001B[0;32m    353\u001B[0m     library \u001B[38;5;241m=\u001B[39m importlib\u001B[38;5;241m.\u001B[39mimport_module(library_name)\n\u001B[0;32m    355\u001B[0m     class_obj \u001B[38;5;241m=\u001B[39m \u001B[38;5;28mgetattr\u001B[39m(library, class_name)\n\u001B[1;32m--> 356\u001B[0m     class_candidates \u001B[38;5;241m=\u001B[39m {c: \u001B[38;5;28;43mgetattr\u001B[39;49m\u001B[43m(\u001B[49m\u001B[43mlibrary\u001B[49m\u001B[43m,\u001B[49m\u001B[43m \u001B[49m\u001B[43mc\u001B[49m\u001B[43m,\u001B[49m\u001B[43m \u001B[49m\u001B[38;5;28;43;01mNone\u001B[39;49;00m\u001B[43m)\u001B[49m \u001B[38;5;28;01mfor\u001B[39;00m c \u001B[38;5;129;01min\u001B[39;00m importable_classes\u001B[38;5;241m.\u001B[39mkeys()}\n\u001B[0;32m    358\u001B[0m \u001B[38;5;28;01mreturn\u001B[39;00m class_obj, class_candidates\n",
      "File \u001B[1;32m~\\.conda\\envs\\autoannotate\\Lib\\site-packages\\diffusers\\utils\\import_utils.py:811\u001B[0m, in \u001B[0;36m_LazyModule.__getattr__\u001B[1;34m(self, name)\u001B[0m\n\u001B[0;32m    809\u001B[0m \u001B[38;5;28;01melif\u001B[39;00m name \u001B[38;5;129;01min\u001B[39;00m \u001B[38;5;28mself\u001B[39m\u001B[38;5;241m.\u001B[39m_class_to_module\u001B[38;5;241m.\u001B[39mkeys():\n\u001B[0;32m    810\u001B[0m     module \u001B[38;5;241m=\u001B[39m \u001B[38;5;28mself\u001B[39m\u001B[38;5;241m.\u001B[39m_get_module(\u001B[38;5;28mself\u001B[39m\u001B[38;5;241m.\u001B[39m_class_to_module[name])\n\u001B[1;32m--> 811\u001B[0m     value \u001B[38;5;241m=\u001B[39m \u001B[38;5;28;43mgetattr\u001B[39;49m\u001B[43m(\u001B[49m\u001B[43mmodule\u001B[49m\u001B[43m,\u001B[49m\u001B[43m \u001B[49m\u001B[43mname\u001B[49m\u001B[43m)\u001B[49m\n\u001B[0;32m    812\u001B[0m \u001B[38;5;28;01melse\u001B[39;00m:\n\u001B[0;32m    813\u001B[0m     \u001B[38;5;28;01mraise\u001B[39;00m \u001B[38;5;167;01mAttributeError\u001B[39;00m(\u001B[38;5;124mf\u001B[39m\u001B[38;5;124m\"\u001B[39m\u001B[38;5;124mmodule \u001B[39m\u001B[38;5;132;01m{\u001B[39;00m\u001B[38;5;28mself\u001B[39m\u001B[38;5;241m.\u001B[39m\u001B[38;5;18m__name__\u001B[39m\u001B[38;5;132;01m}\u001B[39;00m\u001B[38;5;124m has no attribute \u001B[39m\u001B[38;5;132;01m{\u001B[39;00mname\u001B[38;5;132;01m}\u001B[39;00m\u001B[38;5;124m\"\u001B[39m)\n",
      "File \u001B[1;32m~\\.conda\\envs\\autoannotate\\Lib\\site-packages\\diffusers\\utils\\import_utils.py:810\u001B[0m, in \u001B[0;36m_LazyModule.__getattr__\u001B[1;34m(self, name)\u001B[0m\n\u001B[0;32m    808\u001B[0m     value \u001B[38;5;241m=\u001B[39m \u001B[38;5;28mself\u001B[39m\u001B[38;5;241m.\u001B[39m_get_module(name)\n\u001B[0;32m    809\u001B[0m \u001B[38;5;28;01melif\u001B[39;00m name \u001B[38;5;129;01min\u001B[39;00m \u001B[38;5;28mself\u001B[39m\u001B[38;5;241m.\u001B[39m_class_to_module\u001B[38;5;241m.\u001B[39mkeys():\n\u001B[1;32m--> 810\u001B[0m     module \u001B[38;5;241m=\u001B[39m \u001B[38;5;28;43mself\u001B[39;49m\u001B[38;5;241;43m.\u001B[39;49m\u001B[43m_get_module\u001B[49m\u001B[43m(\u001B[49m\u001B[38;5;28;43mself\u001B[39;49m\u001B[38;5;241;43m.\u001B[39;49m\u001B[43m_class_to_module\u001B[49m\u001B[43m[\u001B[49m\u001B[43mname\u001B[49m\u001B[43m]\u001B[49m\u001B[43m)\u001B[49m\n\u001B[0;32m    811\u001B[0m     value \u001B[38;5;241m=\u001B[39m \u001B[38;5;28mgetattr\u001B[39m(module, name)\n\u001B[0;32m    812\u001B[0m \u001B[38;5;28;01melse\u001B[39;00m:\n",
      "File \u001B[1;32m~\\.conda\\envs\\autoannotate\\Lib\\site-packages\\diffusers\\utils\\import_utils.py:822\u001B[0m, in \u001B[0;36m_LazyModule._get_module\u001B[1;34m(self, module_name)\u001B[0m\n\u001B[0;32m    820\u001B[0m     \u001B[38;5;28;01mreturn\u001B[39;00m importlib\u001B[38;5;241m.\u001B[39mimport_module(\u001B[38;5;124m\"\u001B[39m\u001B[38;5;124m.\u001B[39m\u001B[38;5;124m\"\u001B[39m \u001B[38;5;241m+\u001B[39m module_name, \u001B[38;5;28mself\u001B[39m\u001B[38;5;241m.\u001B[39m\u001B[38;5;18m__name__\u001B[39m)\n\u001B[0;32m    821\u001B[0m \u001B[38;5;28;01mexcept\u001B[39;00m \u001B[38;5;167;01mException\u001B[39;00m \u001B[38;5;28;01mas\u001B[39;00m e:\n\u001B[1;32m--> 822\u001B[0m     \u001B[38;5;28;01mraise\u001B[39;00m \u001B[38;5;167;01mRuntimeError\u001B[39;00m(\n\u001B[0;32m    823\u001B[0m         \u001B[38;5;124mf\u001B[39m\u001B[38;5;124m\"\u001B[39m\u001B[38;5;124mFailed to import \u001B[39m\u001B[38;5;132;01m{\u001B[39;00m\u001B[38;5;28mself\u001B[39m\u001B[38;5;241m.\u001B[39m\u001B[38;5;18m__name__\u001B[39m\u001B[38;5;132;01m}\u001B[39;00m\u001B[38;5;124m.\u001B[39m\u001B[38;5;132;01m{\u001B[39;00mmodule_name\u001B[38;5;132;01m}\u001B[39;00m\u001B[38;5;124m because of the following error (look up to see its\u001B[39m\u001B[38;5;124m\"\u001B[39m\n\u001B[0;32m    824\u001B[0m         \u001B[38;5;124mf\u001B[39m\u001B[38;5;124m\"\u001B[39m\u001B[38;5;124m traceback):\u001B[39m\u001B[38;5;130;01m\\n\u001B[39;00m\u001B[38;5;132;01m{\u001B[39;00me\u001B[38;5;132;01m}\u001B[39;00m\u001B[38;5;124m\"\u001B[39m\n\u001B[0;32m    825\u001B[0m     ) \u001B[38;5;28;01mfrom\u001B[39;00m \u001B[38;5;21;01me\u001B[39;00m\n",
      "\u001B[1;31mRuntimeError\u001B[0m: Failed to import diffusers.pipelines.onnx_utils because of the following error (look up to see its traceback):\nDLL load failed while importing onnxruntime_pybind11_state: A dynamic link library (DLL) initialization routine failed."
     ]
    }
   ],
   "source": [
    "import os\n",
    "from PIL import Image, ImageChops\n",
    "from diffusers import StableDiffusionXLImg2ImgPipeline\n",
    "from torchvision.ops import box_convert\n",
    "import torch\n",
    "import numpy as np\n",
    "import shutil\n",
    "\n",
    "# Configuration\n",
    "source_folder = r\"C:\\Users\\Mechanized Systems\\DataspellProjects\\AutoAnnotate\\GUI and Pipeline\\blueberry-detection---GT-10\\train\\images\"\n",
    "output_folder = \"./variations/images\"\n",
    "output_label_folder = \"./variations/labels\"\n",
    "prompt = \"generate accurate variation\"\n",
    "yolo_labels_folder = r\"C:\\Users\\Mechanized Systems\\DataspellProjects\\AutoAnnotate\\GUI and Pipeline\\blueberry-detection---GT-10\\train\\labels\"\n",
    "\n",
    "# Ensure output directories exist\n",
    "os.makedirs(output_folder, exist_ok=True)\n",
    "os.makedirs(output_label_folder, exist_ok=True)\n",
    "\n",
    "# Load Stable Diffusion XL pipeline\n",
    "pipe = StableDiffusionXLImg2ImgPipeline.from_pretrained(\n",
    "    \"stabilityai/stable-diffusion-xl-refiner-1.0\",\n",
    "    torch_dtype=torch.float16,\n",
    "    variant=\"fp16\",\n",
    "    use_safetensors=True\n",
    ")\n",
    "pipe = pipe.to(\"cuda\")\n",
    "\n",
    "# Function to load YOLO bounding boxes from a text file\n",
    "def load_yolo_boxes(label_path, img_width, img_height):\n",
    "    boxes = []\n",
    "    with open(label_path, 'r') as file:\n",
    "        for line in file:\n",
    "            parts = line.strip().split()\n",
    "            _, x_center, y_center, width, height = map(float, parts)\n",
    "            boxes.append([x_center, y_center, width, height])\n",
    "\n",
    "    boxes_tensor = torch.tensor(boxes)\n",
    "    boxes_unnorm = boxes_tensor * torch.Tensor([img_width, img_height, img_width, img_height])\n",
    "    boxes_xyxy = box_convert(boxes=boxes_unnorm, in_fmt=\"cxcywh\", out_fmt=\"xyxy\").numpy()\n",
    "\n",
    "    return boxes_xyxy\n",
    "\n",
    "# Loop through images in folder\n",
    "for filename in os.listdir(source_folder):\n",
    "    if filename.lower().endswith((\".png\", \".jpg\", \".jpeg\", \".bmp\")):\n",
    "        input_image_path = os.path.join(source_folder, filename)\n",
    "        label_filename = os.path.splitext(filename)[0] + \".txt\"\n",
    "        label_path = os.path.join(yolo_labels_folder, label_filename)\n",
    "        output_image_name = f\"variation_{filename}\"\n",
    "        output_image_path = os.path.join(output_folder, output_image_name)\n",
    "        output_label_path = os.path.join(output_label_folder, f\"variation_{os.path.splitext(filename)[0]}.txt\")\n",
    "\n",
    "        # Load image\n",
    "        image = Image.open(input_image_path).convert(\"RGB\")\n",
    "        img_width, img_height = image.size\n",
    "\n",
    "        # Load YOLO boxes\n",
    "        boxes_xyxy = load_yolo_boxes(label_path, img_width, img_height)\n",
    "\n",
    "        # Generate mask from boxes\n",
    "        mask = np.zeros((img_height, img_width), dtype=np.uint8)\n",
    "        for x0, y0, x1, y1 in boxes_xyxy:\n",
    "            mask[int(y0):int(y1), int(x0):int(x1)] = 255\n",
    "\n",
    "        image_mask = Image.fromarray(mask)\n",
    "\n",
    "        # Resize images and masks for inpainting\n",
    "        image_resized = image.resize((512, 512))\n",
    "        mask_resized = image_mask.resize((512, 512))\n",
    "        mask_inverted = ImageChops.invert(mask_resized)\n",
    "\n",
    "        # Generate variation\n",
    "        variation = pipe(prompt=prompt, image=image_resized, mask_image=mask_inverted).images[0]\n",
    "\n",
    "        # Resize variation back to original size\n",
    "        variation = variation.resize(image.size)\n",
    "\n",
    "        # Overlay original box components onto the variation\n",
    "        original_boxes_image = Image.composite(image, variation, image_mask)\n",
    "\n",
    "        # Save output image\n",
    "        original_boxes_image.save(output_image_path)\n",
    "\n",
    "        # Copy corresponding YOLO label file to new label path\n",
    "        shutil.copy(label_path, output_label_path)\n"
   ],
   "metadata": {
    "collapsed": false
   }
  },
  {
   "cell_type": "code",
   "execution_count": null,
   "outputs": [],
   "source": [],
   "metadata": {
    "collapsed": false
   }
  }
 ],
 "metadata": {
  "kernelspec": {
   "display_name": "Python 3",
   "language": "python",
   "name": "python3"
  },
  "language_info": {
   "codemirror_mode": {
    "name": "ipython",
    "version": 2
   },
   "file_extension": ".py",
   "mimetype": "text/x-python",
   "name": "python",
   "nbconvert_exporter": "python",
   "pygments_lexer": "ipython2",
   "version": "2.7.6"
  }
 },
 "nbformat": 4,
 "nbformat_minor": 0
}
